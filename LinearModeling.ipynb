{
  "cells": [
    {
      "cell_type": "markdown",
      "metadata": {
        "id": "view-in-github",
        "colab_type": "text"
      },
      "source": [
        "<a href=\"https://colab.research.google.com/github/lewisjustin749/Linear-Modeling/blob/main/LinearModeling.ipynb\" target=\"_parent\"><img src=\"https://colab.research.google.com/assets/colab-badge.svg\" alt=\"Open In Colab\"/></a>"
      ]
    },
    {
      "cell_type": "code",
      "execution_count": null,
      "metadata": {
        "id": "br-Dldsgatqs"
      },
      "outputs": [],
      "source": [
        "# This jupyter notebook is prepared by \"Justin Lewis\"."
      ]
    },
    {
      "cell_type": "markdown",
      "metadata": {
        "id": "WYS08M4-bMVD"
      },
      "source": [
        "# 1. Load Data and perform general EDA \n",
        "<ol type=\"I\">\n",
        "<li>import libraries: pandas, numpy, matplotlib (set %matplotlib inline), matplotlib’s pyplot, seaborn, missingno, scipy’s stats, sklearn (1 pt)</li>\n",
        "<li>import the data to a dataframe and show the count of rows and columns (1 pt)</li>\n",
        "<li>Show the top 5 and last 5 rows (1 pt)</li>\n",
        "<li>call the describe method of dataframe to see some summary statistics of the numerical columns. (1 pt)</li>\n",
        "<ol type=\"1\">\n",
        "<li>Explain in words about the description of any two variables (1 pt)</li>\n",
        "</ol>\n",
        "<li>Show any missing value analysis  (1 pt)</li>\n",
        "<li> Plot various scatter plots to understand the data:\n",
        "<ol type=\"I\">\n",
        "<li>Yearly amount Spent vs Time on Website</li>\n",
        "<li>Yearly amount Spent vs Time on App</li>\n",
        "<li>Length of membership vs Time on App</li>\n",
        "</li>\n",
        "<li>Generate sns pairplot. Based on the plots, what feature is mostly correlated with the yearly amount spent?</li>\n",
        "<li>Also, plot sns heatmap based on correlation with annot=True and discuss which columns must be removed based on that and which column is mostly interesting and related to Yearly Amount Spent?</li>\n",
        "<li>Generate a scatter plot with the interesting column you found in the last step against the Yearly Amount Spent</li>\n",
        "</ol>\n",
        "</ol>"
      ]
    },
    {
      "cell_type": "code",
      "execution_count": null,
      "metadata": {
        "colab": {
          "base_uri": "https://localhost:8080/",
          "height": 73,
          "resources": {
            "http://localhost:8080/nbextensions/google.colab/files.js": {
              "data": "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",
              "headers": [
                [
                  "content-type",
                  "application/javascript"
                ]
              ],
              "ok": true,
              "status": 200,
              "status_text": ""
            }
          }
        },
        "id": "3Mu3iByHgM2V",
        "outputId": "92ca1187-e481-4c18-d825-da7fd4dbe693"
      },
      "outputs": [
        {
          "output_type": "display_data",
          "data": {
            "text/plain": [
              "<IPython.core.display.HTML object>"
            ],
            "text/html": [
              "\n",
              "     <input type=\"file\" id=\"files-0949c59a-2eda-42bf-ad01-9f6c6ecbd05e\" name=\"files[]\" multiple disabled\n",
              "        style=\"border:none\" />\n",
              "     <output id=\"result-0949c59a-2eda-42bf-ad01-9f6c6ecbd05e\">\n",
              "      Upload widget is only available when the cell has been executed in the\n",
              "      current browser session. Please rerun this cell to enable.\n",
              "      </output>\n",
              "      <script src=\"/nbextensions/google.colab/files.js\"></script> "
            ]
          },
          "metadata": {}
        },
        {
          "output_type": "stream",
          "name": "stdout",
          "text": [
            "Saving ecommarce.csv to ecommarce (1).csv\n"
          ]
        }
      ],
      "source": [
        "#=======================================================================================\n",
        "# Importing the libaries:\n",
        "#=======================================================================================\n",
        "from google.colab import files\n",
        "uploaded = files.upload()\n",
        "\n",
        "import pandas as pd\n",
        "import numpy as np\n",
        "import matplotlib.pyplot as plt\n",
        "%matplotlib inline\n",
        "import seaborn as sns\n",
        "import scipy.stats as st\n",
        "from sklearn import ensemble, tree, linear_model\n",
        "from sklearn.model_selection import train_test_split\n",
        "from sklearn.preprocessing import StandardScaler\n",
        "from sklearn.linear_model import LinearRegression\n",
        "from sklearn.metrics import mean_absolute_error\n",
        "from sklearn.metrics import mean_squared_error\n",
        "from sklearn.metrics import r2_score\n",
        "import missingno as msno \n",
        "pd.set_option('display.max_columns', None) \n",
        "import warnings\n",
        "warnings.filterwarnings(\"ignore\")"
      ]
    },
    {
      "cell_type": "code",
      "execution_count": null,
      "metadata": {
        "id": "4COj4eHNbyMn",
        "colab": {
          "base_uri": "https://localhost:8080/"
        },
        "outputId": "5db40bd4-6fdc-4bda-df83-09282ab79daf"
      },
      "outputs": [
        {
          "output_type": "stream",
          "name": "stdout",
          "text": [
            "Data Frame data imported successfully!!\n"
          ]
        }
      ],
      "source": [
        "#=======================================================================================\n",
        "# Importing the data:\n",
        "#=======================================================================================\n",
        "\n",
        "def read_data():\n",
        "  df = pd.read_csv('ecommarce.csv')\n",
        "  print(\"Data Frame data imported successfully!!\")\n",
        "  return df\n",
        "df = read_data()\n"
      ]
    },
    {
      "cell_type": "code",
      "execution_count": null,
      "metadata": {
        "colab": {
          "base_uri": "https://localhost:8080/"
        },
        "id": "kU849l7cKCDC",
        "outputId": "195f93eb-dde4-4e8f-df29-b3fa657bd831"
      },
      "outputs": [
        {
          "output_type": "stream",
          "name": "stdout",
          "text": [
            "<class 'pandas.core.frame.DataFrame'>\n",
            "RangeIndex: 500 entries, 0 to 499\n",
            "Data columns (total 9 columns):\n",
            " #   Column                Non-Null Count  Dtype  \n",
            "---  ------                --------------  -----  \n",
            " 0   Unnamed: 0            500 non-null    int64  \n",
            " 1   Email                 500 non-null    object \n",
            " 2   Address               500 non-null    object \n",
            " 3   Credit Card           500 non-null    int64  \n",
            " 4   Avg. Session Length   500 non-null    float64\n",
            " 5   Time on App           500 non-null    float64\n",
            " 6   Time on Website       500 non-null    float64\n",
            " 7   Length of Membership  500 non-null    float64\n",
            " 8   Yearly Amount Spent   500 non-null    float64\n",
            "dtypes: float64(5), int64(2), object(2)\n",
            "memory usage: 35.3+ KB\n"
          ]
        }
      ],
      "source": [
        "#=======================================================================================\n",
        "# Discovering the features types:\n",
        "#=======================================================================================\n",
        "df.info()"
      ]
    },
    {
      "cell_type": "code",
      "execution_count": null,
      "metadata": {
        "colab": {
          "base_uri": "https://localhost:8080/"
        },
        "id": "3vw8pMcoMtFq",
        "outputId": "d75c4c83-eed9-4b1c-c5e3-7f7a6713f5d3"
      },
      "outputs": [
        {
          "output_type": "execute_result",
          "data": {
            "text/plain": [
              "(500, 9)"
            ]
          },
          "metadata": {},
          "execution_count": 245
        }
      ],
      "source": [
        "df.shape"
      ]
    },
    {
      "cell_type": "code",
      "execution_count": null,
      "metadata": {
        "colab": {
          "base_uri": "https://localhost:8080/",
          "height": 206
        },
        "id": "KScOHeqzOGwW",
        "outputId": "e410a1d8-62a5-4253-f6dd-205db9c16e8e"
      },
      "outputs": [
        {
          "output_type": "execute_result",
          "data": {
            "text/plain": [
              "   Unnamed: 0         Email                                           Address  \\\n",
              "0           0  adkv@ota.com               89280 Mark Lane\\nNew John, MN 16131   \n",
              "1           1  gjun@syj.com  363 Amanda Cliff Apt. 638\\nWest Angela, KS 31437   \n",
              "2           2  qjyr@pkk.com           62008 Adam Lodge\\nLake Pamela, NY 30677   \n",
              "3           3  jkiu@xsb.com         950 Tami Island\\nLake Aimeeview, MT 93614   \n",
              "4           4  stvb@niy.com       08254 Kelly Squares\\nNorth Lauren, AR 78382   \n",
              "\n",
              "           Credit Card  Avg. Session Length  Time on App  Time on Website  \\\n",
              "0     3544288738428794            35.497268    13.655651        40.577668   \n",
              "1     6546228325389133            32.926272    12.109461        38.268959   \n",
              "2  4406395951712628314            34.000915    12.330278        38.110597   \n",
              "3       30334036663133            35.305557    14.717514        37.721283   \n",
              "4     3582080469154498            34.330673    13.795189        38.536653   \n",
              "\n",
              "   Length of Membership  Yearly Amount Spent  \n",
              "0              4.582621           588.951054  \n",
              "1              3.164034           393.204933  \n",
              "2              4.604543           488.547505  \n",
              "3              3.620179           582.852344  \n",
              "4              4.946308           600.406092  "
            ],
            "text/html": [
              "\n",
              "  <div id=\"df-4d96b379-0489-4b8d-a4ff-89d603af5b37\">\n",
              "    <div class=\"colab-df-container\">\n",
              "      <div>\n",
              "<style scoped>\n",
              "    .dataframe tbody tr th:only-of-type {\n",
              "        vertical-align: middle;\n",
              "    }\n",
              "\n",
              "    .dataframe tbody tr th {\n",
              "        vertical-align: top;\n",
              "    }\n",
              "\n",
              "    .dataframe thead th {\n",
              "        text-align: right;\n",
              "    }\n",
              "</style>\n",
              "<table border=\"1\" class=\"dataframe\">\n",
              "  <thead>\n",
              "    <tr style=\"text-align: right;\">\n",
              "      <th></th>\n",
              "      <th>Unnamed: 0</th>\n",
              "      <th>Email</th>\n",
              "      <th>Address</th>\n",
              "      <th>Credit Card</th>\n",
              "      <th>Avg. Session Length</th>\n",
              "      <th>Time on App</th>\n",
              "      <th>Time on Website</th>\n",
              "      <th>Length of Membership</th>\n",
              "      <th>Yearly Amount Spent</th>\n",
              "    </tr>\n",
              "  </thead>\n",
              "  <tbody>\n",
              "    <tr>\n",
              "      <th>0</th>\n",
              "      <td>0</td>\n",
              "      <td>adkv@ota.com</td>\n",
              "      <td>89280 Mark Lane\\nNew John, MN 16131</td>\n",
              "      <td>3544288738428794</td>\n",
              "      <td>35.497268</td>\n",
              "      <td>13.655651</td>\n",
              "      <td>40.577668</td>\n",
              "      <td>4.582621</td>\n",
              "      <td>588.951054</td>\n",
              "    </tr>\n",
              "    <tr>\n",
              "      <th>1</th>\n",
              "      <td>1</td>\n",
              "      <td>gjun@syj.com</td>\n",
              "      <td>363 Amanda Cliff Apt. 638\\nWest Angela, KS 31437</td>\n",
              "      <td>6546228325389133</td>\n",
              "      <td>32.926272</td>\n",
              "      <td>12.109461</td>\n",
              "      <td>38.268959</td>\n",
              "      <td>3.164034</td>\n",
              "      <td>393.204933</td>\n",
              "    </tr>\n",
              "    <tr>\n",
              "      <th>2</th>\n",
              "      <td>2</td>\n",
              "      <td>qjyr@pkk.com</td>\n",
              "      <td>62008 Adam Lodge\\nLake Pamela, NY 30677</td>\n",
              "      <td>4406395951712628314</td>\n",
              "      <td>34.000915</td>\n",
              "      <td>12.330278</td>\n",
              "      <td>38.110597</td>\n",
              "      <td>4.604543</td>\n",
              "      <td>488.547505</td>\n",
              "    </tr>\n",
              "    <tr>\n",
              "      <th>3</th>\n",
              "      <td>3</td>\n",
              "      <td>jkiu@xsb.com</td>\n",
              "      <td>950 Tami Island\\nLake Aimeeview, MT 93614</td>\n",
              "      <td>30334036663133</td>\n",
              "      <td>35.305557</td>\n",
              "      <td>14.717514</td>\n",
              "      <td>37.721283</td>\n",
              "      <td>3.620179</td>\n",
              "      <td>582.852344</td>\n",
              "    </tr>\n",
              "    <tr>\n",
              "      <th>4</th>\n",
              "      <td>4</td>\n",
              "      <td>stvb@niy.com</td>\n",
              "      <td>08254 Kelly Squares\\nNorth Lauren, AR 78382</td>\n",
              "      <td>3582080469154498</td>\n",
              "      <td>34.330673</td>\n",
              "      <td>13.795189</td>\n",
              "      <td>38.536653</td>\n",
              "      <td>4.946308</td>\n",
              "      <td>600.406092</td>\n",
              "    </tr>\n",
              "  </tbody>\n",
              "</table>\n",
              "</div>\n",
              "      <button class=\"colab-df-convert\" onclick=\"convertToInteractive('df-4d96b379-0489-4b8d-a4ff-89d603af5b37')\"\n",
              "              title=\"Convert this dataframe to an interactive table.\"\n",
              "              style=\"display:none;\">\n",
              "        \n",
              "  <svg xmlns=\"http://www.w3.org/2000/svg\" height=\"24px\"viewBox=\"0 0 24 24\"\n",
              "       width=\"24px\">\n",
              "    <path d=\"M0 0h24v24H0V0z\" fill=\"none\"/>\n",
              "    <path d=\"M18.56 5.44l.94 2.06.94-2.06 2.06-.94-2.06-.94-.94-2.06-.94 2.06-2.06.94zm-11 1L8.5 8.5l.94-2.06 2.06-.94-2.06-.94L8.5 2.5l-.94 2.06-2.06.94zm10 10l.94 2.06.94-2.06 2.06-.94-2.06-.94-.94-2.06-.94 2.06-2.06.94z\"/><path d=\"M17.41 7.96l-1.37-1.37c-.4-.4-.92-.59-1.43-.59-.52 0-1.04.2-1.43.59L10.3 9.45l-7.72 7.72c-.78.78-.78 2.05 0 2.83L4 21.41c.39.39.9.59 1.41.59.51 0 1.02-.2 1.41-.59l7.78-7.78 2.81-2.81c.8-.78.8-2.07 0-2.86zM5.41 20L4 18.59l7.72-7.72 1.47 1.35L5.41 20z\"/>\n",
              "  </svg>\n",
              "      </button>\n",
              "      \n",
              "  <style>\n",
              "    .colab-df-container {\n",
              "      display:flex;\n",
              "      flex-wrap:wrap;\n",
              "      gap: 12px;\n",
              "    }\n",
              "\n",
              "    .colab-df-convert {\n",
              "      background-color: #E8F0FE;\n",
              "      border: none;\n",
              "      border-radius: 50%;\n",
              "      cursor: pointer;\n",
              "      display: none;\n",
              "      fill: #1967D2;\n",
              "      height: 32px;\n",
              "      padding: 0 0 0 0;\n",
              "      width: 32px;\n",
              "    }\n",
              "\n",
              "    .colab-df-convert:hover {\n",
              "      background-color: #E2EBFA;\n",
              "      box-shadow: 0px 1px 2px rgba(60, 64, 67, 0.3), 0px 1px 3px 1px rgba(60, 64, 67, 0.15);\n",
              "      fill: #174EA6;\n",
              "    }\n",
              "\n",
              "    [theme=dark] .colab-df-convert {\n",
              "      background-color: #3B4455;\n",
              "      fill: #D2E3FC;\n",
              "    }\n",
              "\n",
              "    [theme=dark] .colab-df-convert:hover {\n",
              "      background-color: #434B5C;\n",
              "      box-shadow: 0px 1px 3px 1px rgba(0, 0, 0, 0.15);\n",
              "      filter: drop-shadow(0px 1px 2px rgba(0, 0, 0, 0.3));\n",
              "      fill: #FFFFFF;\n",
              "    }\n",
              "  </style>\n",
              "\n",
              "      <script>\n",
              "        const buttonEl =\n",
              "          document.querySelector('#df-4d96b379-0489-4b8d-a4ff-89d603af5b37 button.colab-df-convert');\n",
              "        buttonEl.style.display =\n",
              "          google.colab.kernel.accessAllowed ? 'block' : 'none';\n",
              "\n",
              "        async function convertToInteractive(key) {\n",
              "          const element = document.querySelector('#df-4d96b379-0489-4b8d-a4ff-89d603af5b37');\n",
              "          const dataTable =\n",
              "            await google.colab.kernel.invokeFunction('convertToInteractive',\n",
              "                                                     [key], {});\n",
              "          if (!dataTable) return;\n",
              "\n",
              "          const docLinkHtml = 'Like what you see? Visit the ' +\n",
              "            '<a target=\"_blank\" href=https://colab.research.google.com/notebooks/data_table.ipynb>data table notebook</a>'\n",
              "            + ' to learn more about interactive tables.';\n",
              "          element.innerHTML = '';\n",
              "          dataTable['output_type'] = 'display_data';\n",
              "          await google.colab.output.renderOutput(dataTable, element);\n",
              "          const docLink = document.createElement('div');\n",
              "          docLink.innerHTML = docLinkHtml;\n",
              "          element.appendChild(docLink);\n",
              "        }\n",
              "      </script>\n",
              "    </div>\n",
              "  </div>\n",
              "  "
            ]
          },
          "metadata": {},
          "execution_count": 246
        }
      ],
      "source": [
        "df.head()"
      ]
    },
    {
      "cell_type": "code",
      "execution_count": null,
      "metadata": {
        "colab": {
          "base_uri": "https://localhost:8080/",
          "height": 206
        },
        "id": "A_ULpMYbOSe6",
        "outputId": "8b4fe905-3287-465b-de7c-836f83f07228"
      },
      "outputs": [
        {
          "output_type": "execute_result",
          "data": {
            "text/plain": [
              "     Unnamed: 0         Email  \\\n",
              "495         495  xskz@gwj.com   \n",
              "496         496  awrc@iok.com   \n",
              "497         497  pndt@jyr.com   \n",
              "498         498  zvtz@onj.com   \n",
              "499         499  phqb@nlg.com   \n",
              "\n",
              "                                               Address          Credit Card  \\\n",
              "495            7083 Wallace Rest\\nNew Trevor, NM 70240       30206742023085   \n",
              "496  663 Christopher Garden\\nLake Carrieberg, PA 70796     6011536844623717   \n",
              "497            1555 Chen Road\\nBergerchester, NH 46418  4086276267550896697   \n",
              "498  5568 Robert Station Apt. 030\\nTurnerstad, GA 9...       36218092488069   \n",
              "499       424 Mark Junctions\\nDarrellchester, TX 09088     5427200269739116   \n",
              "\n",
              "     Avg. Session Length  Time on App  Time on Website  Length of Membership  \\\n",
              "495            34.237660    14.566160        37.417985              4.246573   \n",
              "496            35.702529    12.695736        38.190268              4.076526   \n",
              "497            33.646777    12.499409        39.332576              5.458264   \n",
              "498            34.322501    13.391423        37.840086              2.836485   \n",
              "499            34.715981    13.418808        36.771016              3.235160   \n",
              "\n",
              "     Yearly Amount Spent  \n",
              "495           574.847438  \n",
              "496           530.049004  \n",
              "497           552.620145  \n",
              "498           457.469510  \n",
              "499           498.778642  "
            ],
            "text/html": [
              "\n",
              "  <div id=\"df-4552f721-6bdf-43e2-8247-5b81d26a503f\">\n",
              "    <div class=\"colab-df-container\">\n",
              "      <div>\n",
              "<style scoped>\n",
              "    .dataframe tbody tr th:only-of-type {\n",
              "        vertical-align: middle;\n",
              "    }\n",
              "\n",
              "    .dataframe tbody tr th {\n",
              "        vertical-align: top;\n",
              "    }\n",
              "\n",
              "    .dataframe thead th {\n",
              "        text-align: right;\n",
              "    }\n",
              "</style>\n",
              "<table border=\"1\" class=\"dataframe\">\n",
              "  <thead>\n",
              "    <tr style=\"text-align: right;\">\n",
              "      <th></th>\n",
              "      <th>Unnamed: 0</th>\n",
              "      <th>Email</th>\n",
              "      <th>Address</th>\n",
              "      <th>Credit Card</th>\n",
              "      <th>Avg. Session Length</th>\n",
              "      <th>Time on App</th>\n",
              "      <th>Time on Website</th>\n",
              "      <th>Length of Membership</th>\n",
              "      <th>Yearly Amount Spent</th>\n",
              "    </tr>\n",
              "  </thead>\n",
              "  <tbody>\n",
              "    <tr>\n",
              "      <th>495</th>\n",
              "      <td>495</td>\n",
              "      <td>xskz@gwj.com</td>\n",
              "      <td>7083 Wallace Rest\\nNew Trevor, NM 70240</td>\n",
              "      <td>30206742023085</td>\n",
              "      <td>34.237660</td>\n",
              "      <td>14.566160</td>\n",
              "      <td>37.417985</td>\n",
              "      <td>4.246573</td>\n",
              "      <td>574.847438</td>\n",
              "    </tr>\n",
              "    <tr>\n",
              "      <th>496</th>\n",
              "      <td>496</td>\n",
              "      <td>awrc@iok.com</td>\n",
              "      <td>663 Christopher Garden\\nLake Carrieberg, PA 70796</td>\n",
              "      <td>6011536844623717</td>\n",
              "      <td>35.702529</td>\n",
              "      <td>12.695736</td>\n",
              "      <td>38.190268</td>\n",
              "      <td>4.076526</td>\n",
              "      <td>530.049004</td>\n",
              "    </tr>\n",
              "    <tr>\n",
              "      <th>497</th>\n",
              "      <td>497</td>\n",
              "      <td>pndt@jyr.com</td>\n",
              "      <td>1555 Chen Road\\nBergerchester, NH 46418</td>\n",
              "      <td>4086276267550896697</td>\n",
              "      <td>33.646777</td>\n",
              "      <td>12.499409</td>\n",
              "      <td>39.332576</td>\n",
              "      <td>5.458264</td>\n",
              "      <td>552.620145</td>\n",
              "    </tr>\n",
              "    <tr>\n",
              "      <th>498</th>\n",
              "      <td>498</td>\n",
              "      <td>zvtz@onj.com</td>\n",
              "      <td>5568 Robert Station Apt. 030\\nTurnerstad, GA 9...</td>\n",
              "      <td>36218092488069</td>\n",
              "      <td>34.322501</td>\n",
              "      <td>13.391423</td>\n",
              "      <td>37.840086</td>\n",
              "      <td>2.836485</td>\n",
              "      <td>457.469510</td>\n",
              "    </tr>\n",
              "    <tr>\n",
              "      <th>499</th>\n",
              "      <td>499</td>\n",
              "      <td>phqb@nlg.com</td>\n",
              "      <td>424 Mark Junctions\\nDarrellchester, TX 09088</td>\n",
              "      <td>5427200269739116</td>\n",
              "      <td>34.715981</td>\n",
              "      <td>13.418808</td>\n",
              "      <td>36.771016</td>\n",
              "      <td>3.235160</td>\n",
              "      <td>498.778642</td>\n",
              "    </tr>\n",
              "  </tbody>\n",
              "</table>\n",
              "</div>\n",
              "      <button class=\"colab-df-convert\" onclick=\"convertToInteractive('df-4552f721-6bdf-43e2-8247-5b81d26a503f')\"\n",
              "              title=\"Convert this dataframe to an interactive table.\"\n",
              "              style=\"display:none;\">\n",
              "        \n",
              "  <svg xmlns=\"http://www.w3.org/2000/svg\" height=\"24px\"viewBox=\"0 0 24 24\"\n",
              "       width=\"24px\">\n",
              "    <path d=\"M0 0h24v24H0V0z\" fill=\"none\"/>\n",
              "    <path d=\"M18.56 5.44l.94 2.06.94-2.06 2.06-.94-2.06-.94-.94-2.06-.94 2.06-2.06.94zm-11 1L8.5 8.5l.94-2.06 2.06-.94-2.06-.94L8.5 2.5l-.94 2.06-2.06.94zm10 10l.94 2.06.94-2.06 2.06-.94-2.06-.94-.94-2.06-.94 2.06-2.06.94z\"/><path d=\"M17.41 7.96l-1.37-1.37c-.4-.4-.92-.59-1.43-.59-.52 0-1.04.2-1.43.59L10.3 9.45l-7.72 7.72c-.78.78-.78 2.05 0 2.83L4 21.41c.39.39.9.59 1.41.59.51 0 1.02-.2 1.41-.59l7.78-7.78 2.81-2.81c.8-.78.8-2.07 0-2.86zM5.41 20L4 18.59l7.72-7.72 1.47 1.35L5.41 20z\"/>\n",
              "  </svg>\n",
              "      </button>\n",
              "      \n",
              "  <style>\n",
              "    .colab-df-container {\n",
              "      display:flex;\n",
              "      flex-wrap:wrap;\n",
              "      gap: 12px;\n",
              "    }\n",
              "\n",
              "    .colab-df-convert {\n",
              "      background-color: #E8F0FE;\n",
              "      border: none;\n",
              "      border-radius: 50%;\n",
              "      cursor: pointer;\n",
              "      display: none;\n",
              "      fill: #1967D2;\n",
              "      height: 32px;\n",
              "      padding: 0 0 0 0;\n",
              "      width: 32px;\n",
              "    }\n",
              "\n",
              "    .colab-df-convert:hover {\n",
              "      background-color: #E2EBFA;\n",
              "      box-shadow: 0px 1px 2px rgba(60, 64, 67, 0.3), 0px 1px 3px 1px rgba(60, 64, 67, 0.15);\n",
              "      fill: #174EA6;\n",
              "    }\n",
              "\n",
              "    [theme=dark] .colab-df-convert {\n",
              "      background-color: #3B4455;\n",
              "      fill: #D2E3FC;\n",
              "    }\n",
              "\n",
              "    [theme=dark] .colab-df-convert:hover {\n",
              "      background-color: #434B5C;\n",
              "      box-shadow: 0px 1px 3px 1px rgba(0, 0, 0, 0.15);\n",
              "      filter: drop-shadow(0px 1px 2px rgba(0, 0, 0, 0.3));\n",
              "      fill: #FFFFFF;\n",
              "    }\n",
              "  </style>\n",
              "\n",
              "      <script>\n",
              "        const buttonEl =\n",
              "          document.querySelector('#df-4552f721-6bdf-43e2-8247-5b81d26a503f button.colab-df-convert');\n",
              "        buttonEl.style.display =\n",
              "          google.colab.kernel.accessAllowed ? 'block' : 'none';\n",
              "\n",
              "        async function convertToInteractive(key) {\n",
              "          const element = document.querySelector('#df-4552f721-6bdf-43e2-8247-5b81d26a503f');\n",
              "          const dataTable =\n",
              "            await google.colab.kernel.invokeFunction('convertToInteractive',\n",
              "                                                     [key], {});\n",
              "          if (!dataTable) return;\n",
              "\n",
              "          const docLinkHtml = 'Like what you see? Visit the ' +\n",
              "            '<a target=\"_blank\" href=https://colab.research.google.com/notebooks/data_table.ipynb>data table notebook</a>'\n",
              "            + ' to learn more about interactive tables.';\n",
              "          element.innerHTML = '';\n",
              "          dataTable['output_type'] = 'display_data';\n",
              "          await google.colab.output.renderOutput(dataTable, element);\n",
              "          const docLink = document.createElement('div');\n",
              "          docLink.innerHTML = docLinkHtml;\n",
              "          element.appendChild(docLink);\n",
              "        }\n",
              "      </script>\n",
              "    </div>\n",
              "  </div>\n",
              "  "
            ]
          },
          "metadata": {},
          "execution_count": 247
        }
      ],
      "source": [
        "df.tail()"
      ]
    },
    {
      "cell_type": "code",
      "execution_count": null,
      "metadata": {
        "id": "v0IzICkvOajQ"
      },
      "outputs": [],
      "source": [
        "# Unnamed is used for indexing so the column can be removed\n",
        "\n",
        "df.drop('Unnamed: 0', inplace=True, axis=1)"
      ]
    },
    {
      "cell_type": "code",
      "source": [
        "#=======================================================================================\n",
        "# Discovering the numerical data distribution :\n",
        "#=======================================================================================\n",
        "df.describe()"
      ],
      "metadata": {
        "colab": {
          "base_uri": "https://localhost:8080/",
          "height": 300
        },
        "id": "4MpeupaiD290",
        "outputId": "2b6dfdfd-594c-4668-c62f-8b69f2557a44"
      },
      "execution_count": null,
      "outputs": [
        {
          "output_type": "execute_result",
          "data": {
            "text/plain": [
              "        Credit Card  Avg. Session Length  Time on App  Time on Website  \\\n",
              "count  5.000000e+02           500.000000   500.000000       500.000000   \n",
              "mean   3.706324e+17            34.053194    13.052488        38.060445   \n",
              "std    1.235588e+18             0.992563     0.994216         1.010489   \n",
              "min    5.018057e+11            30.532429     9.508152        34.913847   \n",
              "25%    3.683275e+13            33.341822    12.388153        37.349257   \n",
              "50%    3.513612e+15            34.082008    12.983231        38.069367   \n",
              "75%    4.777131e+15            34.711985    13.753850        38.716432   \n",
              "max    4.959148e+18            37.139662    16.126994        41.005182   \n",
              "\n",
              "       Length of Membership  Yearly Amount Spent  \n",
              "count            500.000000           500.000000  \n",
              "mean               4.033462           500.314038  \n",
              "std                0.999278            79.314782  \n",
              "min                0.769901           257.670582  \n",
              "25%                3.430450           446.038277  \n",
              "50%                4.033975           499.887875  \n",
              "75%                4.626502           550.313828  \n",
              "max                7.422689           766.518462  "
            ],
            "text/html": [
              "\n",
              "  <div id=\"df-62df75ff-6317-4f69-8fd0-10400de31070\">\n",
              "    <div class=\"colab-df-container\">\n",
              "      <div>\n",
              "<style scoped>\n",
              "    .dataframe tbody tr th:only-of-type {\n",
              "        vertical-align: middle;\n",
              "    }\n",
              "\n",
              "    .dataframe tbody tr th {\n",
              "        vertical-align: top;\n",
              "    }\n",
              "\n",
              "    .dataframe thead th {\n",
              "        text-align: right;\n",
              "    }\n",
              "</style>\n",
              "<table border=\"1\" class=\"dataframe\">\n",
              "  <thead>\n",
              "    <tr style=\"text-align: right;\">\n",
              "      <th></th>\n",
              "      <th>Credit Card</th>\n",
              "      <th>Avg. Session Length</th>\n",
              "      <th>Time on App</th>\n",
              "      <th>Time on Website</th>\n",
              "      <th>Length of Membership</th>\n",
              "      <th>Yearly Amount Spent</th>\n",
              "    </tr>\n",
              "  </thead>\n",
              "  <tbody>\n",
              "    <tr>\n",
              "      <th>count</th>\n",
              "      <td>5.000000e+02</td>\n",
              "      <td>500.000000</td>\n",
              "      <td>500.000000</td>\n",
              "      <td>500.000000</td>\n",
              "      <td>500.000000</td>\n",
              "      <td>500.000000</td>\n",
              "    </tr>\n",
              "    <tr>\n",
              "      <th>mean</th>\n",
              "      <td>3.706324e+17</td>\n",
              "      <td>34.053194</td>\n",
              "      <td>13.052488</td>\n",
              "      <td>38.060445</td>\n",
              "      <td>4.033462</td>\n",
              "      <td>500.314038</td>\n",
              "    </tr>\n",
              "    <tr>\n",
              "      <th>std</th>\n",
              "      <td>1.235588e+18</td>\n",
              "      <td>0.992563</td>\n",
              "      <td>0.994216</td>\n",
              "      <td>1.010489</td>\n",
              "      <td>0.999278</td>\n",
              "      <td>79.314782</td>\n",
              "    </tr>\n",
              "    <tr>\n",
              "      <th>min</th>\n",
              "      <td>5.018057e+11</td>\n",
              "      <td>30.532429</td>\n",
              "      <td>9.508152</td>\n",
              "      <td>34.913847</td>\n",
              "      <td>0.769901</td>\n",
              "      <td>257.670582</td>\n",
              "    </tr>\n",
              "    <tr>\n",
              "      <th>25%</th>\n",
              "      <td>3.683275e+13</td>\n",
              "      <td>33.341822</td>\n",
              "      <td>12.388153</td>\n",
              "      <td>37.349257</td>\n",
              "      <td>3.430450</td>\n",
              "      <td>446.038277</td>\n",
              "    </tr>\n",
              "    <tr>\n",
              "      <th>50%</th>\n",
              "      <td>3.513612e+15</td>\n",
              "      <td>34.082008</td>\n",
              "      <td>12.983231</td>\n",
              "      <td>38.069367</td>\n",
              "      <td>4.033975</td>\n",
              "      <td>499.887875</td>\n",
              "    </tr>\n",
              "    <tr>\n",
              "      <th>75%</th>\n",
              "      <td>4.777131e+15</td>\n",
              "      <td>34.711985</td>\n",
              "      <td>13.753850</td>\n",
              "      <td>38.716432</td>\n",
              "      <td>4.626502</td>\n",
              "      <td>550.313828</td>\n",
              "    </tr>\n",
              "    <tr>\n",
              "      <th>max</th>\n",
              "      <td>4.959148e+18</td>\n",
              "      <td>37.139662</td>\n",
              "      <td>16.126994</td>\n",
              "      <td>41.005182</td>\n",
              "      <td>7.422689</td>\n",
              "      <td>766.518462</td>\n",
              "    </tr>\n",
              "  </tbody>\n",
              "</table>\n",
              "</div>\n",
              "      <button class=\"colab-df-convert\" onclick=\"convertToInteractive('df-62df75ff-6317-4f69-8fd0-10400de31070')\"\n",
              "              title=\"Convert this dataframe to an interactive table.\"\n",
              "              style=\"display:none;\">\n",
              "        \n",
              "  <svg xmlns=\"http://www.w3.org/2000/svg\" height=\"24px\"viewBox=\"0 0 24 24\"\n",
              "       width=\"24px\">\n",
              "    <path d=\"M0 0h24v24H0V0z\" fill=\"none\"/>\n",
              "    <path d=\"M18.56 5.44l.94 2.06.94-2.06 2.06-.94-2.06-.94-.94-2.06-.94 2.06-2.06.94zm-11 1L8.5 8.5l.94-2.06 2.06-.94-2.06-.94L8.5 2.5l-.94 2.06-2.06.94zm10 10l.94 2.06.94-2.06 2.06-.94-2.06-.94-.94-2.06-.94 2.06-2.06.94z\"/><path d=\"M17.41 7.96l-1.37-1.37c-.4-.4-.92-.59-1.43-.59-.52 0-1.04.2-1.43.59L10.3 9.45l-7.72 7.72c-.78.78-.78 2.05 0 2.83L4 21.41c.39.39.9.59 1.41.59.51 0 1.02-.2 1.41-.59l7.78-7.78 2.81-2.81c.8-.78.8-2.07 0-2.86zM5.41 20L4 18.59l7.72-7.72 1.47 1.35L5.41 20z\"/>\n",
              "  </svg>\n",
              "      </button>\n",
              "      \n",
              "  <style>\n",
              "    .colab-df-container {\n",
              "      display:flex;\n",
              "      flex-wrap:wrap;\n",
              "      gap: 12px;\n",
              "    }\n",
              "\n",
              "    .colab-df-convert {\n",
              "      background-color: #E8F0FE;\n",
              "      border: none;\n",
              "      border-radius: 50%;\n",
              "      cursor: pointer;\n",
              "      display: none;\n",
              "      fill: #1967D2;\n",
              "      height: 32px;\n",
              "      padding: 0 0 0 0;\n",
              "      width: 32px;\n",
              "    }\n",
              "\n",
              "    .colab-df-convert:hover {\n",
              "      background-color: #E2EBFA;\n",
              "      box-shadow: 0px 1px 2px rgba(60, 64, 67, 0.3), 0px 1px 3px 1px rgba(60, 64, 67, 0.15);\n",
              "      fill: #174EA6;\n",
              "    }\n",
              "\n",
              "    [theme=dark] .colab-df-convert {\n",
              "      background-color: #3B4455;\n",
              "      fill: #D2E3FC;\n",
              "    }\n",
              "\n",
              "    [theme=dark] .colab-df-convert:hover {\n",
              "      background-color: #434B5C;\n",
              "      box-shadow: 0px 1px 3px 1px rgba(0, 0, 0, 0.15);\n",
              "      filter: drop-shadow(0px 1px 2px rgba(0, 0, 0, 0.3));\n",
              "      fill: #FFFFFF;\n",
              "    }\n",
              "  </style>\n",
              "\n",
              "      <script>\n",
              "        const buttonEl =\n",
              "          document.querySelector('#df-62df75ff-6317-4f69-8fd0-10400de31070 button.colab-df-convert');\n",
              "        buttonEl.style.display =\n",
              "          google.colab.kernel.accessAllowed ? 'block' : 'none';\n",
              "\n",
              "        async function convertToInteractive(key) {\n",
              "          const element = document.querySelector('#df-62df75ff-6317-4f69-8fd0-10400de31070');\n",
              "          const dataTable =\n",
              "            await google.colab.kernel.invokeFunction('convertToInteractive',\n",
              "                                                     [key], {});\n",
              "          if (!dataTable) return;\n",
              "\n",
              "          const docLinkHtml = 'Like what you see? Visit the ' +\n",
              "            '<a target=\"_blank\" href=https://colab.research.google.com/notebooks/data_table.ipynb>data table notebook</a>'\n",
              "            + ' to learn more about interactive tables.';\n",
              "          element.innerHTML = '';\n",
              "          dataTable['output_type'] = 'display_data';\n",
              "          await google.colab.output.renderOutput(dataTable, element);\n",
              "          const docLink = document.createElement('div');\n",
              "          docLink.innerHTML = docLinkHtml;\n",
              "          element.appendChild(docLink);\n",
              "        }\n",
              "      </script>\n",
              "    </div>\n",
              "  </div>\n",
              "  "
            ]
          },
          "metadata": {},
          "execution_count": 249
        }
      ]
    },
    {
      "cell_type": "markdown",
      "metadata": {
        "id": "Ml0eMgawU5C9"
      },
      "source": [
        "# Explain in words about the description of any two variables\n",
        "\n",
        "After calling describe, I found that the mean average session length and time on website are very similar. So customers spend about the same amount of time in store and on the website. Maybe the company can make there website a little more simple or have more efficient in store employees to make these mean times lower and deal with more customers that way.\n",
        "\n",
        "Insights:\n",
        "\n",
        "* Average customer has been a customer for about 4 years.\n",
        "* No customer spends 40+ minutes receiving in-store style advice during a session.\n",
        "* Customers spend about 1/2 the time on the mobile app compared to the website to place orders for clothes.\n",
        "* Sales for the company seem to be exceedingly low since the max yearly amount spent does not exceed $1000. Possibly goal of company is to sell cheap and affordable clothing"
      ]
    },
    {
      "cell_type": "code",
      "source": [
        "#=======================================================================================\n",
        "# Discovering the categorical data distribution :\n",
        "#=======================================================================================\n",
        "\n",
        "df.describe(include = [\"O\"])"
      ],
      "metadata": {
        "colab": {
          "base_uri": "https://localhost:8080/",
          "height": 175
        },
        "id": "_HvkOpM6D26r",
        "outputId": "6cfb7ab7-7936-4080-bbbe-2ce259db98b0"
      },
      "execution_count": null,
      "outputs": [
        {
          "output_type": "execute_result",
          "data": {
            "text/plain": [
              "               Email                              Address\n",
              "count            500                                  500\n",
              "unique           500                                  500\n",
              "top     adkv@ota.com  89280 Mark Lane\\nNew John, MN 16131\n",
              "freq               1                                    1"
            ],
            "text/html": [
              "\n",
              "  <div id=\"df-fc8f7a71-89a6-4e88-8da4-a33af015df58\">\n",
              "    <div class=\"colab-df-container\">\n",
              "      <div>\n",
              "<style scoped>\n",
              "    .dataframe tbody tr th:only-of-type {\n",
              "        vertical-align: middle;\n",
              "    }\n",
              "\n",
              "    .dataframe tbody tr th {\n",
              "        vertical-align: top;\n",
              "    }\n",
              "\n",
              "    .dataframe thead th {\n",
              "        text-align: right;\n",
              "    }\n",
              "</style>\n",
              "<table border=\"1\" class=\"dataframe\">\n",
              "  <thead>\n",
              "    <tr style=\"text-align: right;\">\n",
              "      <th></th>\n",
              "      <th>Email</th>\n",
              "      <th>Address</th>\n",
              "    </tr>\n",
              "  </thead>\n",
              "  <tbody>\n",
              "    <tr>\n",
              "      <th>count</th>\n",
              "      <td>500</td>\n",
              "      <td>500</td>\n",
              "    </tr>\n",
              "    <tr>\n",
              "      <th>unique</th>\n",
              "      <td>500</td>\n",
              "      <td>500</td>\n",
              "    </tr>\n",
              "    <tr>\n",
              "      <th>top</th>\n",
              "      <td>adkv@ota.com</td>\n",
              "      <td>89280 Mark Lane\\nNew John, MN 16131</td>\n",
              "    </tr>\n",
              "    <tr>\n",
              "      <th>freq</th>\n",
              "      <td>1</td>\n",
              "      <td>1</td>\n",
              "    </tr>\n",
              "  </tbody>\n",
              "</table>\n",
              "</div>\n",
              "      <button class=\"colab-df-convert\" onclick=\"convertToInteractive('df-fc8f7a71-89a6-4e88-8da4-a33af015df58')\"\n",
              "              title=\"Convert this dataframe to an interactive table.\"\n",
              "              style=\"display:none;\">\n",
              "        \n",
              "  <svg xmlns=\"http://www.w3.org/2000/svg\" height=\"24px\"viewBox=\"0 0 24 24\"\n",
              "       width=\"24px\">\n",
              "    <path d=\"M0 0h24v24H0V0z\" fill=\"none\"/>\n",
              "    <path d=\"M18.56 5.44l.94 2.06.94-2.06 2.06-.94-2.06-.94-.94-2.06-.94 2.06-2.06.94zm-11 1L8.5 8.5l.94-2.06 2.06-.94-2.06-.94L8.5 2.5l-.94 2.06-2.06.94zm10 10l.94 2.06.94-2.06 2.06-.94-2.06-.94-.94-2.06-.94 2.06-2.06.94z\"/><path d=\"M17.41 7.96l-1.37-1.37c-.4-.4-.92-.59-1.43-.59-.52 0-1.04.2-1.43.59L10.3 9.45l-7.72 7.72c-.78.78-.78 2.05 0 2.83L4 21.41c.39.39.9.59 1.41.59.51 0 1.02-.2 1.41-.59l7.78-7.78 2.81-2.81c.8-.78.8-2.07 0-2.86zM5.41 20L4 18.59l7.72-7.72 1.47 1.35L5.41 20z\"/>\n",
              "  </svg>\n",
              "      </button>\n",
              "      \n",
              "  <style>\n",
              "    .colab-df-container {\n",
              "      display:flex;\n",
              "      flex-wrap:wrap;\n",
              "      gap: 12px;\n",
              "    }\n",
              "\n",
              "    .colab-df-convert {\n",
              "      background-color: #E8F0FE;\n",
              "      border: none;\n",
              "      border-radius: 50%;\n",
              "      cursor: pointer;\n",
              "      display: none;\n",
              "      fill: #1967D2;\n",
              "      height: 32px;\n",
              "      padding: 0 0 0 0;\n",
              "      width: 32px;\n",
              "    }\n",
              "\n",
              "    .colab-df-convert:hover {\n",
              "      background-color: #E2EBFA;\n",
              "      box-shadow: 0px 1px 2px rgba(60, 64, 67, 0.3), 0px 1px 3px 1px rgba(60, 64, 67, 0.15);\n",
              "      fill: #174EA6;\n",
              "    }\n",
              "\n",
              "    [theme=dark] .colab-df-convert {\n",
              "      background-color: #3B4455;\n",
              "      fill: #D2E3FC;\n",
              "    }\n",
              "\n",
              "    [theme=dark] .colab-df-convert:hover {\n",
              "      background-color: #434B5C;\n",
              "      box-shadow: 0px 1px 3px 1px rgba(0, 0, 0, 0.15);\n",
              "      filter: drop-shadow(0px 1px 2px rgba(0, 0, 0, 0.3));\n",
              "      fill: #FFFFFF;\n",
              "    }\n",
              "  </style>\n",
              "\n",
              "      <script>\n",
              "        const buttonEl =\n",
              "          document.querySelector('#df-fc8f7a71-89a6-4e88-8da4-a33af015df58 button.colab-df-convert');\n",
              "        buttonEl.style.display =\n",
              "          google.colab.kernel.accessAllowed ? 'block' : 'none';\n",
              "\n",
              "        async function convertToInteractive(key) {\n",
              "          const element = document.querySelector('#df-fc8f7a71-89a6-4e88-8da4-a33af015df58');\n",
              "          const dataTable =\n",
              "            await google.colab.kernel.invokeFunction('convertToInteractive',\n",
              "                                                     [key], {});\n",
              "          if (!dataTable) return;\n",
              "\n",
              "          const docLinkHtml = 'Like what you see? Visit the ' +\n",
              "            '<a target=\"_blank\" href=https://colab.research.google.com/notebooks/data_table.ipynb>data table notebook</a>'\n",
              "            + ' to learn more about interactive tables.';\n",
              "          element.innerHTML = '';\n",
              "          dataTable['output_type'] = 'display_data';\n",
              "          await google.colab.output.renderOutput(dataTable, element);\n",
              "          const docLink = document.createElement('div');\n",
              "          docLink.innerHTML = docLinkHtml;\n",
              "          element.appendChild(docLink);\n",
              "        }\n",
              "      </script>\n",
              "    </div>\n",
              "  </div>\n",
              "  "
            ]
          },
          "metadata": {},
          "execution_count": 250
        }
      ]
    },
    {
      "cell_type": "markdown",
      "source": [
        "Insights:\n",
        "* There are no duplicate values in any categorical features"
      ],
      "metadata": {
        "id": "8UdI1nR3osvv"
      }
    },
    {
      "cell_type": "code",
      "source": [
        "#=======================================================================================\n",
        "# Discovering the features:\n",
        "#=======================================================================================\n",
        "numerical_columns = df.select_dtypes(include = [np.number])\n",
        "print(numerical_columns.columns.values)"
      ],
      "metadata": {
        "colab": {
          "base_uri": "https://localhost:8080/"
        },
        "id": "6a8jKmuPEtha",
        "outputId": "6f4e2dd2-9c9b-43ce-ca25-93e85d88d194"
      },
      "execution_count": null,
      "outputs": [
        {
          "output_type": "stream",
          "name": "stdout",
          "text": [
            "['Credit Card' 'Avg. Session Length' 'Time on App' 'Time on Website'\n",
            " 'Length of Membership' 'Yearly Amount Spent']\n"
          ]
        }
      ]
    },
    {
      "cell_type": "code",
      "source": [
        "#=======================================================================================\n",
        "# Discovering the features:\n",
        "#=======================================================================================\n",
        "categorical_columns = df.select_dtypes(include = [np.object])\n",
        "print(categorical_columns.columns.values)"
      ],
      "metadata": {
        "colab": {
          "base_uri": "https://localhost:8080/"
        },
        "id": "EwLMBr_oEu4u",
        "outputId": "ffce3f1a-3ccb-48d2-bfa3-0d9f74e75388"
      },
      "execution_count": null,
      "outputs": [
        {
          "output_type": "stream",
          "name": "stdout",
          "text": [
            "['Email' 'Address']\n"
          ]
        }
      ]
    },
    {
      "cell_type": "code",
      "execution_count": null,
      "metadata": {
        "colab": {
          "base_uri": "https://localhost:8080/"
        },
        "id": "tXWczk8UW6eG",
        "outputId": "37a94eac-b440-49c9-ce70-86730d5a9f16"
      },
      "outputs": [
        {
          "output_type": "execute_result",
          "data": {
            "text/plain": [
              "Email                   0\n",
              "Address                 0\n",
              "Credit Card             0\n",
              "Avg. Session Length     0\n",
              "Time on App             0\n",
              "Time on Website         0\n",
              "Length of Membership    0\n",
              "Yearly Amount Spent     0\n",
              "dtype: int64"
            ]
          },
          "metadata": {},
          "execution_count": 253
        }
      ],
      "source": [
        "#=======================================================================================\n",
        "# Null Value Analysis:\n",
        "#=======================================================================================\n",
        "missingvalues = df.isnull().sum() \n",
        "missingvalues.sort_values(inplace = True, ascending = False)\n",
        "missingvalues"
      ]
    },
    {
      "cell_type": "code",
      "execution_count": null,
      "metadata": {
        "colab": {
          "base_uri": "https://localhost:8080/",
          "height": 279
        },
        "id": "daaPmZTFX4xC",
        "outputId": "de3cfd55-4e56-45b4-b5c2-cf12da902695"
      },
      "outputs": [
        {
          "output_type": "display_data",
          "data": {
            "text/plain": [
              "<Figure size 432x288 with 1 Axes>"
            ],
            "image/png": "[encoded data removed]"
          },
          "metadata": {
            "needs_background": "light"
          }
        }
      ],
      "source": [
        "sns.scatterplot(x=df['Yearly Amount Spent'], y= df['Time on Website'] , data=df);\n",
        "plt.ylabel('Time on Website (Minutes)');\n",
        "plt.xlabel('Yearly Amount Spent (Dollars)');"
      ]
    },
    {
      "cell_type": "code",
      "execution_count": null,
      "metadata": {
        "colab": {
          "base_uri": "https://localhost:8080/",
          "height": 279
        },
        "id": "5Mbipei4X4sH",
        "outputId": "467ca26a-963d-4a98-e68f-0d7a758aae51"
      },
      "outputs": [
        {
          "output_type": "display_data",
          "data": {
            "text/plain": [
              "<Figure size 432x288 with 1 Axes>"
            ],
            "image/png": "[encoded data removed]"
          },
          "metadata": {
            "needs_background": "light"
          }
        }
      ],
      "source": [
        "sns.scatterplot(x=df['Yearly Amount Spent'], y= df['Time on App'] , data=df);\n",
        "plt.ylabel('Time on App (Minutes)');\n",
        "plt.xlabel('Yearly Amount Spent (Dollars)');"
      ]
    },
    {
      "cell_type": "code",
      "execution_count": null,
      "metadata": {
        "colab": {
          "base_uri": "https://localhost:8080/",
          "height": 279
        },
        "id": "886SGOiJX4j9",
        "outputId": "82855e86-fea7-41d0-a5e1-0139ded436fc"
      },
      "outputs": [
        {
          "output_type": "display_data",
          "data": {
            "text/plain": [
              "<Figure size 432x288 with 1 Axes>"
            ],
            "image/png": "[encoded data removed]"
          },
          "metadata": {
            "needs_background": "light"
          }
        }
      ],
      "source": [
        "sns.scatterplot(x=df['Length of Membership'], y= df['Time on App'] , data=df);\n",
        "plt.ylabel('Time on App (Minutes)');\n",
        "plt.xlabel('Length of Membership (Years)');"
      ]
    },
    {
      "cell_type": "code",
      "execution_count": null,
      "metadata": {
        "colab": {
          "base_uri": "https://localhost:8080/",
          "height": 374
        },
        "id": "Q5Vi4TyzaeTG",
        "outputId": "0dcf4f8e-2550-4f20-be7f-572f19afdf9c"
      },
      "outputs": [
        {
          "output_type": "display_data",
          "data": {
            "text/plain": [
              "<Figure size 360x360 with 4 Axes>"
            ],
            "image/png": "[encoded data removed]"
          },
          "metadata": {
            "needs_background": "light"
          }
        }
      ],
      "source": [
        "sns.pairplot(df,\n",
        "            x_vars=[\"Yearly Amount Spent\", \"Length of Membership\"],\n",
        "            y_vars=[\"Time on Website\", \"Time on App\"]);"
      ]
    },
    {
      "cell_type": "markdown",
      "metadata": {
        "id": "1I7ARnLLg564"
      },
      "source": [
        "# Based on the plots, what feature is mostly correlated with the yearly amount spent?\n",
        "\n",
        "Based on the pairplot, Time on the App is more positively correlated to Yearly Amount Spent since that scatter plot visually is closer to forming a linear line (y = x) then the feature Time on Website."
      ]
    },
    {
      "cell_type": "code",
      "execution_count": null,
      "metadata": {
        "colab": {
          "base_uri": "https://localhost:8080/",
          "height": 704
        },
        "id": "Dwso5n5CaWht",
        "outputId": "faef79b5-adf2-4e37-de5a-ac14e91e2437"
      },
      "outputs": [
        {
          "output_type": "display_data",
          "data": {
            "text/plain": [
              "<Figure size 1080x864 with 2 Axes>"
            ],
            "image/png": "[encoded data removed]"
          },
          "metadata": {
            "needs_background": "light"
          }
        }
      ],
      "source": [
        "plt.figure(figsize = (15, 12))\n",
        "correlation = df.corr()\n",
        "heat_map = sns.heatmap( correlation, linewidth = 1 , annot = True)"
      ]
    },
    {
      "cell_type": "markdown",
      "metadata": {
        "id": "IW0zmaq7iHfw"
      },
      "source": [
        "# Discuss which columns must be removed based on that and which column is mostly interesting and related to Yearly Amount Spent?\n",
        "\n",
        "Based on the heatmap, I would remove the credit card column since it has the least (most negative) correlation with yearly amount spent and have a low (negative) correlations with the other features as well. Time on website is negatively correlated with yearly spent but is almost negligible.\n",
        "\n",
        "* Length of the membership has the highest correlation with yearly amount spent and time on app comes second.\n",
        "* Long term members spend less time on the website and use the app more often.\n",
        "* Avg session time is negatively correlated with time on app/website which makes sense since more session time picking out outfits in store eqautes to finding the items quicker when placing the order."
      ]
    },
    {
      "cell_type": "code",
      "execution_count": null,
      "metadata": {
        "colab": {
          "base_uri": "https://localhost:8080/",
          "height": 279
        },
        "id": "YhqQMJTri2zu",
        "outputId": "151a36da-51b6-4205-ed62-d599615ace26"
      },
      "outputs": [
        {
          "output_type": "display_data",
          "data": {
            "text/plain": [
              "<Figure size 432x288 with 1 Axes>"
            ],
            "image/png": "[encoded data removed]"
          },
          "metadata": {
            "needs_background": "light"
          }
        }
      ],
      "source": [
        "sns.scatterplot(x=df['Length of Membership'], y= df['Yearly Amount Spent'] , data=df);\n",
        "plt.ylabel('Yearly Amount Spent (Dollars)');\n",
        "plt.xlabel('Length of Membership (Years)');"
      ]
    },
    {
      "cell_type": "markdown",
      "metadata": {
        "id": "i5h8Fkz6byrI"
      },
      "source": [
        "# 2 Feature Selection and Pre-processing\n",
        "Based on the EDA and null analysis, drop the unnecessary columns for the regression"
      ]
    },
    {
      "cell_type": "code",
      "execution_count": null,
      "metadata": {
        "id": "myRSwGiHb40f"
      },
      "outputs": [],
      "source": [
        "df.drop('Credit Card', inplace=True, axis=1)"
      ]
    },
    {
      "cell_type": "code",
      "source": [
        "df.head()"
      ],
      "metadata": {
        "colab": {
          "base_uri": "https://localhost:8080/",
          "height": 206
        },
        "id": "KU7Y9hWMlQuL",
        "outputId": "44bff559-eef5-4fb2-ad37-96696e0eb3b9"
      },
      "execution_count": null,
      "outputs": [
        {
          "output_type": "execute_result",
          "data": {
            "text/plain": [
              "          Email                                           Address  \\\n",
              "0  adkv@ota.com               89280 Mark Lane\\nNew John, MN 16131   \n",
              "1  gjun@syj.com  363 Amanda Cliff Apt. 638\\nWest Angela, KS 31437   \n",
              "2  qjyr@pkk.com           62008 Adam Lodge\\nLake Pamela, NY 30677   \n",
              "3  jkiu@xsb.com         950 Tami Island\\nLake Aimeeview, MT 93614   \n",
              "4  stvb@niy.com       08254 Kelly Squares\\nNorth Lauren, AR 78382   \n",
              "\n",
              "   Avg. Session Length  Time on App  Time on Website  Length of Membership  \\\n",
              "0            35.497268    13.655651        40.577668              4.582621   \n",
              "1            32.926272    12.109461        38.268959              3.164034   \n",
              "2            34.000915    12.330278        38.110597              4.604543   \n",
              "3            35.305557    14.717514        37.721283              3.620179   \n",
              "4            34.330673    13.795189        38.536653              4.946308   \n",
              "\n",
              "   Yearly Amount Spent  \n",
              "0           588.951054  \n",
              "1           393.204933  \n",
              "2           488.547505  \n",
              "3           582.852344  \n",
              "4           600.406092  "
            ],
            "text/html": [
              "\n",
              "  <div id=\"df-7945d82d-ece7-46ef-b48a-156b76d6fd61\">\n",
              "    <div class=\"colab-df-container\">\n",
              "      <div>\n",
              "<style scoped>\n",
              "    .dataframe tbody tr th:only-of-type {\n",
              "        vertical-align: middle;\n",
              "    }\n",
              "\n",
              "    .dataframe tbody tr th {\n",
              "        vertical-align: top;\n",
              "    }\n",
              "\n",
              "    .dataframe thead th {\n",
              "        text-align: right;\n",
              "    }\n",
              "</style>\n",
              "<table border=\"1\" class=\"dataframe\">\n",
              "  <thead>\n",
              "    <tr style=\"text-align: right;\">\n",
              "      <th></th>\n",
              "      <th>Email</th>\n",
              "      <th>Address</th>\n",
              "      <th>Avg. Session Length</th>\n",
              "      <th>Time on App</th>\n",
              "      <th>Time on Website</th>\n",
              "      <th>Length of Membership</th>\n",
              "      <th>Yearly Amount Spent</th>\n",
              "    </tr>\n",
              "  </thead>\n",
              "  <tbody>\n",
              "    <tr>\n",
              "      <th>0</th>\n",
              "      <td>adkv@ota.com</td>\n",
              "      <td>89280 Mark Lane\\nNew John, MN 16131</td>\n",
              "      <td>35.497268</td>\n",
              "      <td>13.655651</td>\n",
              "      <td>40.577668</td>\n",
              "      <td>4.582621</td>\n",
              "      <td>588.951054</td>\n",
              "    </tr>\n",
              "    <tr>\n",
              "      <th>1</th>\n",
              "      <td>gjun@syj.com</td>\n",
              "      <td>363 Amanda Cliff Apt. 638\\nWest Angela, KS 31437</td>\n",
              "      <td>32.926272</td>\n",
              "      <td>12.109461</td>\n",
              "      <td>38.268959</td>\n",
              "      <td>3.164034</td>\n",
              "      <td>393.204933</td>\n",
              "    </tr>\n",
              "    <tr>\n",
              "      <th>2</th>\n",
              "      <td>qjyr@pkk.com</td>\n",
              "      <td>62008 Adam Lodge\\nLake Pamela, NY 30677</td>\n",
              "      <td>34.000915</td>\n",
              "      <td>12.330278</td>\n",
              "      <td>38.110597</td>\n",
              "      <td>4.604543</td>\n",
              "      <td>488.547505</td>\n",
              "    </tr>\n",
              "    <tr>\n",
              "      <th>3</th>\n",
              "      <td>jkiu@xsb.com</td>\n",
              "      <td>950 Tami Island\\nLake Aimeeview, MT 93614</td>\n",
              "      <td>35.305557</td>\n",
              "      <td>14.717514</td>\n",
              "      <td>37.721283</td>\n",
              "      <td>3.620179</td>\n",
              "      <td>582.852344</td>\n",
              "    </tr>\n",
              "    <tr>\n",
              "      <th>4</th>\n",
              "      <td>stvb@niy.com</td>\n",
              "      <td>08254 Kelly Squares\\nNorth Lauren, AR 78382</td>\n",
              "      <td>34.330673</td>\n",
              "      <td>13.795189</td>\n",
              "      <td>38.536653</td>\n",
              "      <td>4.946308</td>\n",
              "      <td>600.406092</td>\n",
              "    </tr>\n",
              "  </tbody>\n",
              "</table>\n",
              "</div>\n",
              "      <button class=\"colab-df-convert\" onclick=\"convertToInteractive('df-7945d82d-ece7-46ef-b48a-156b76d6fd61')\"\n",
              "              title=\"Convert this dataframe to an interactive table.\"\n",
              "              style=\"display:none;\">\n",
              "        \n",
              "  <svg xmlns=\"http://www.w3.org/2000/svg\" height=\"24px\"viewBox=\"0 0 24 24\"\n",
              "       width=\"24px\">\n",
              "    <path d=\"M0 0h24v24H0V0z\" fill=\"none\"/>\n",
              "    <path d=\"M18.56 5.44l.94 2.06.94-2.06 2.06-.94-2.06-.94-.94-2.06-.94 2.06-2.06.94zm-11 1L8.5 8.5l.94-2.06 2.06-.94-2.06-.94L8.5 2.5l-.94 2.06-2.06.94zm10 10l.94 2.06.94-2.06 2.06-.94-2.06-.94-.94-2.06-.94 2.06-2.06.94z\"/><path d=\"M17.41 7.96l-1.37-1.37c-.4-.4-.92-.59-1.43-.59-.52 0-1.04.2-1.43.59L10.3 9.45l-7.72 7.72c-.78.78-.78 2.05 0 2.83L4 21.41c.39.39.9.59 1.41.59.51 0 1.02-.2 1.41-.59l7.78-7.78 2.81-2.81c.8-.78.8-2.07 0-2.86zM5.41 20L4 18.59l7.72-7.72 1.47 1.35L5.41 20z\"/>\n",
              "  </svg>\n",
              "      </button>\n",
              "      \n",
              "  <style>\n",
              "    .colab-df-container {\n",
              "      display:flex;\n",
              "      flex-wrap:wrap;\n",
              "      gap: 12px;\n",
              "    }\n",
              "\n",
              "    .colab-df-convert {\n",
              "      background-color: #E8F0FE;\n",
              "      border: none;\n",
              "      border-radius: 50%;\n",
              "      cursor: pointer;\n",
              "      display: none;\n",
              "      fill: #1967D2;\n",
              "      height: 32px;\n",
              "      padding: 0 0 0 0;\n",
              "      width: 32px;\n",
              "    }\n",
              "\n",
              "    .colab-df-convert:hover {\n",
              "      background-color: #E2EBFA;\n",
              "      box-shadow: 0px 1px 2px rgba(60, 64, 67, 0.3), 0px 1px 3px 1px rgba(60, 64, 67, 0.15);\n",
              "      fill: #174EA6;\n",
              "    }\n",
              "\n",
              "    [theme=dark] .colab-df-convert {\n",
              "      background-color: #3B4455;\n",
              "      fill: #D2E3FC;\n",
              "    }\n",
              "\n",
              "    [theme=dark] .colab-df-convert:hover {\n",
              "      background-color: #434B5C;\n",
              "      box-shadow: 0px 1px 3px 1px rgba(0, 0, 0, 0.15);\n",
              "      filter: drop-shadow(0px 1px 2px rgba(0, 0, 0, 0.3));\n",
              "      fill: #FFFFFF;\n",
              "    }\n",
              "  </style>\n",
              "\n",
              "      <script>\n",
              "        const buttonEl =\n",
              "          document.querySelector('#df-7945d82d-ece7-46ef-b48a-156b76d6fd61 button.colab-df-convert');\n",
              "        buttonEl.style.display =\n",
              "          google.colab.kernel.accessAllowed ? 'block' : 'none';\n",
              "\n",
              "        async function convertToInteractive(key) {\n",
              "          const element = document.querySelector('#df-7945d82d-ece7-46ef-b48a-156b76d6fd61');\n",
              "          const dataTable =\n",
              "            await google.colab.kernel.invokeFunction('convertToInteractive',\n",
              "                                                     [key], {});\n",
              "          if (!dataTable) return;\n",
              "\n",
              "          const docLinkHtml = 'Like what you see? Visit the ' +\n",
              "            '<a target=\"_blank\" href=https://colab.research.google.com/notebooks/data_table.ipynb>data table notebook</a>'\n",
              "            + ' to learn more about interactive tables.';\n",
              "          element.innerHTML = '';\n",
              "          dataTable['output_type'] = 'display_data';\n",
              "          await google.colab.output.renderOutput(dataTable, element);\n",
              "          const docLink = document.createElement('div');\n",
              "          docLink.innerHTML = docLinkHtml;\n",
              "          element.appendChild(docLink);\n",
              "        }\n",
              "      </script>\n",
              "    </div>\n",
              "  </div>\n",
              "  "
            ]
          },
          "metadata": {},
          "execution_count": 261
        }
      ]
    },
    {
      "cell_type": "markdown",
      "metadata": {
        "id": "PbapNmNcb5AN"
      },
      "source": [
        "# 3 X/Y and Training/Test Split\n",
        "Use sklearn's train_test_split to split the data set into training and test sets. There should be 30% records in the test set. The random_stat should be 101 \\\\\n",
        "As we will be doing gradient descent as well as some other regression technique, scaling the data set is important. So, use sklearn's StandardScaler for scalling the X of training and test sets. But don't do it for y(target) train and test. [For help, you can see the answer for this question: https://stackoverflow.com/questions/38780302/predicting-new-data-using-sklearn-after-standardizing-the-training-data"
      ]
    },
    {
      "cell_type": "code",
      "source": [
        "feature_columns = df[['Avg. Session Length','Time on App', 'Time on Website', 'Length of Membership']].columns"
      ],
      "metadata": {
        "id": "M9yE3mypLtZ5"
      },
      "execution_count": null,
      "outputs": []
    },
    {
      "cell_type": "code",
      "source": [
        "feature_columns"
      ],
      "metadata": {
        "colab": {
          "base_uri": "https://localhost:8080/"
        },
        "id": "xsi-Tl_cPLTc",
        "outputId": "9445e0ee-265c-47a7-f6a8-5e29fa5ab7f7"
      },
      "execution_count": null,
      "outputs": [
        {
          "output_type": "execute_result",
          "data": {
            "text/plain": [
              "Index(['Avg. Session Length', 'Time on App', 'Time on Website',\n",
              "       'Length of Membership'],\n",
              "      dtype='object')"
            ]
          },
          "metadata": {},
          "execution_count": 263
        }
      ]
    },
    {
      "cell_type": "code",
      "execution_count": null,
      "metadata": {
        "id": "KBl5_WigcDIq"
      },
      "outputs": [],
      "source": [
        "X = df[['Avg. Session Length','Time on App', 'Time on Website', 'Length of Membership']].values.reshape(-1, 4)\n",
        "y = df['Yearly Amount Spent'].values.reshape(-1, 1);\n",
        "\n",
        "X_scaled = StandardScaler().fit_transform(X)\n",
        "\n",
        "X_train, X_test, y_train, y_test = train_test_split(X_scaled, y, test_size=0.3, random_state = 101)\n",
        "\n"
      ]
    },
    {
      "cell_type": "markdown",
      "metadata": {
        "id": "nJbFpUslcDhr"
      },
      "source": [
        "# 4 Training Linear Model using SKLearn's LinearRegression \n",
        "<ol type=\"I\">\n",
        "<li>Train a linear model using Sklearn''s LinearRegression (example in the linear regression slide/colab links in webcourses)</li>\n",
        "<li>After training, show the coefficients and intercept</li>\n",
        "<li>Predict for the test data </li>\n",
        "<li>Generate a scatter plot that shows the Y test on x-axis and y predicted in y-axis </li>\n",
        "<li>Use sklearn's metrics to print the value of MAE, MSE, RMSE, and R^2  (see documentation of sklearn's metrics) </li>\n",
        "<li>Interpretation: Interpret the coefficient and which coefficient belongs to \n",
        "which feature and based on that explain any strategy that should help the business</li>\n",
        "</ol>"
      ]
    },
    {
      "cell_type": "code",
      "execution_count": null,
      "metadata": {
        "colab": {
          "base_uri": "https://localhost:8080/"
        },
        "id": "EzZh90q6f0y5",
        "outputId": "9e018b15-a6c9-4c3f-bf86-951b0dbc4e9c"
      },
      "outputs": [
        {
          "output_type": "stream",
          "name": "stdout",
          "text": [
            "intercept: [500.53166775]\n",
            "coefficients: [[25.76252659 38.32855202  0.19220992 61.17355707]]\n"
          ]
        }
      ],
      "source": [
        "lr=LinearRegression() \n",
        "lr.fit(X_train , y_train)\n",
        "print(\"intercept:\",lr.intercept_)\n",
        "print(\"coefficients:\",lr.coef_)"
      ]
    },
    {
      "cell_type": "code",
      "source": [
        "model_coefficients = lr.coef_\n",
        "coefficients_df = pd.DataFrame(data = model_coefficients.reshape([4,1]),\n",
        "                              index = feature_columns,\n",
        "                              columns = ['Coefficient value']\n",
        "                              )\n",
        "print(coefficients_df)\n",
        "\n",
        "# Going forward we use the same theta values to test the other algorithms so this is the only time\n",
        "# I will display what feature relates to the theta value since other algorithms produce similar theta values\n",
        "# Refer back here if you forget"
      ],
      "metadata": {
        "colab": {
          "base_uri": "https://localhost:8080/"
        },
        "id": "0igIXHGeBOWg",
        "outputId": "e7f461f7-cdd5-4981-ce6d-5b0c421f44de"
      },
      "execution_count": null,
      "outputs": [
        {
          "output_type": "stream",
          "name": "stdout",
          "text": [
            "                      Coefficient value\n",
            "Avg. Session Length           25.762527\n",
            "Time on App                   38.328552\n",
            "Time on Website                0.192210\n",
            "Length of Membership          61.173557\n"
          ]
        }
      ]
    },
    {
      "cell_type": "code",
      "execution_count": null,
      "metadata": {
        "id": "U6noAy1rC5d4"
      },
      "outputs": [],
      "source": [
        "y_pred = lr.predict(X_test);"
      ]
    },
    {
      "cell_type": "code",
      "source": [
        "results = pd.DataFrame({'Actual': y_test.squeeze(), 'Predicted': y_pred.squeeze()})\n",
        "print(results)"
      ],
      "metadata": {
        "colab": {
          "base_uri": "https://localhost:8080/"
        },
        "id": "Q_Dg772-HJPH",
        "outputId": "61801c84-b4bc-48f9-98ab-3bedf6097e65"
      },
      "execution_count": null,
      "outputs": [
        {
          "output_type": "stream",
          "name": "stdout",
          "text": [
            "         Actual   Predicted\n",
            "0    453.315675  457.441861\n",
            "1    402.033135  403.720053\n",
            "2    411.069611  410.253154\n",
            "3    600.406092  592.431034\n",
            "4    587.155870  591.014373\n",
            "..          ...         ...\n",
            "145  480.731938  479.300766\n",
            "146  489.387526  485.410296\n",
            "147  462.112248  458.590999\n",
            "148  408.704548  412.526576\n",
            "149  376.398455  376.479006\n",
            "\n",
            "[150 rows x 2 columns]\n"
          ]
        }
      ]
    },
    {
      "cell_type": "code",
      "execution_count": null,
      "metadata": {
        "colab": {
          "base_uri": "https://localhost:8080/",
          "height": 295
        },
        "id": "-UZ4Ob171cQg",
        "outputId": "f3f53958-cfb0-474f-c259-61cde8d1ff59"
      },
      "outputs": [
        {
          "output_type": "display_data",
          "data": {
            "text/plain": [
              "<Figure size 432x288 with 1 Axes>"
            ],
            "image/png": "[encoded data removed]"
          },
          "metadata": {
            "needs_background": "light"
          }
        }
      ],
      "source": [
        "plt.scatter(y_test,y_pred);\n",
        "plt.title('Simple Linear Regression');\n",
        "plt.xlabel(\"Y Test\");\n",
        "plt.ylabel(\"Y Predicted\");"
      ]
    },
    {
      "cell_type": "code",
      "source": [
        "mae = mean_absolute_error(y_test, y_pred)\n",
        "print(f'Mean absolute error: {mae:.2f}')\n",
        "\n",
        "mse = mean_squared_error(y_test, y_pred)\n",
        "print(f'Mean squared error: {mse:.2f}')\n",
        "\n",
        "rmse = np.sqrt(mean_squared_error(y_test, y_pred))\n",
        "print(f'Root mean squared error: {rmse:.2f}')\n",
        "\n",
        "R2 = r2_score(y_test, y_pred)\n",
        "print(f'R^2: {R2:.3f}')"
      ],
      "metadata": {
        "colab": {
          "base_uri": "https://localhost:8080/"
        },
        "id": "hbdX9CH8ts18",
        "outputId": "95756ebd-bf6a-488a-f98f-f0484463746b"
      },
      "execution_count": null,
      "outputs": [
        {
          "output_type": "stream",
          "name": "stdout",
          "text": [
            "Mean absolute error: 7.23\n",
            "Mean squared error: 79.81\n",
            "Root mean squared error: 8.93\n",
            "R^2: 0.989\n"
          ]
        }
      ]
    },
    {
      "cell_type": "code",
      "source": [
        "lr.score(X_train, y_train)"
      ],
      "metadata": {
        "colab": {
          "base_uri": "https://localhost:8080/"
        },
        "id": "8zkA5ejFY61L",
        "outputId": "23f92ad1-f9f1-455d-dbfe-130653f59002"
      },
      "execution_count": null,
      "outputs": [
        {
          "output_type": "execute_result",
          "data": {
            "text/plain": [
              "0.9817562058732432"
            ]
          },
          "metadata": {},
          "execution_count": 271
        }
      ]
    },
    {
      "cell_type": "markdown",
      "source": [
        "Insights on results:\n",
        "* Our model is testing well with the test data, explaining it 98% of the time based on the R^2 value\n",
        "* The model also explains the training data well with a 98% score\n",
        "* MAE and RMSE are close to zero but MSE is relatively high due to the any large errors made in the model. "
      ],
      "metadata": {
        "id": "ic_3Ef3pH5HL"
      }
    },
    {
      "cell_type": "markdown",
      "metadata": {
        "id": "JjRCN_dvOa2O"
      },
      "source": [
        "# Interpretation: Interpret the coefficient and which coefficient belongs to which feature and based on that explain any strategy that should help the business\n",
        "\n",
        "The coefficients are for Avg. Session Length, Time on App, Time on Website, and Length of Membership in that order.\n",
        "\n",
        "* Length of Membership contains the highest slope (theta value)\n",
        "* Time on website has a slope close to zero and shows that area of the business needs help to increase yearly money spent.\n",
        "\n",
        "What the business can do is update their website to make it more user friendly for people who enter the site. They also can include sales and promotional offers on their website that will draw in more customers increase time on website. The business can have more sales / promotions to have more customers in store and increase the yearly money spent for customers. When making those changes to the website and retesting new data in the future we can check if the theta value for time on website has increased."
      ]
    },
    {
      "cell_type": "markdown",
      "metadata": {
        "id": "nZUfgniKf1ZR"
      },
      "source": [
        "# 5 Normal Equation \n",
        "(while solving this, you might need to convert your dataframe into various different data structures such as to_numpy(), might need to reshape, perform Transpose, add x0 columns, etc. I would recommend you to see the colab link I have shown you in the class and try to compare the shape of x and y and their data to get an idea during this process. Also, the code and discussion in the slide will help. \\\\\n",
        "<ol type=\"I\">\n",
        "<li>Implement Normal Equation and find best_theta values based on the training set</li>\n",
        "<li>Display the theta values. Are they very close to the sklearn's linear regression?</li>\n",
        "<li>Prepare the test set before prediction</li>\n",
        "<li>Perform prediction for the test set</li>\n",
        "<li>Generate a scatter plot that shows the Y test on x-axis and y predicted in y-axis</li>\n",
        "<li>Use sklearn's metrics to print the value of MAE, MSE, RMSE, and R^2  (see documentation of sklearn's metrics)</li>\n",
        "<li>What is the limitation of using the Normal equation for regression?</li>\n",
        "</ol>"
      ]
    },
    {
      "cell_type": "code",
      "execution_count": null,
      "metadata": {
        "id": "8LPM5TO9qO6l"
      },
      "outputs": [],
      "source": [
        "X_b = np.c_[np.ones(len(X_train)), X_train]  # add x0 = 1 to each instance\n",
        "theta_Normal = np.linalg.inv(X_b.T.dot(X_b)).dot(X_b.T).dot(y_train)"
      ]
    },
    {
      "cell_type": "code",
      "execution_count": null,
      "metadata": {
        "colab": {
          "base_uri": "https://localhost:8080/"
        },
        "id": "KP2lgjgPgiW8",
        "outputId": "18f897f3-cfb0-4e56-f2fc-510b50dfe3d2"
      },
      "outputs": [
        {
          "output_type": "stream",
          "name": "stdout",
          "text": [
            "[[5.00531668e+02]\n",
            " [2.57625266e+01]\n",
            " [3.83285520e+01]\n",
            " [1.92209922e-01]\n",
            " [6.11735571e+01]]\n"
          ]
        }
      ],
      "source": [
        "print(theta_Normal)"
      ]
    },
    {
      "cell_type": "markdown",
      "metadata": {
        "id": "KJuUFTR0pnV0"
      },
      "source": [
        "#Display the theta values. Are they very close to the sklearn's linear regression?\n",
        "\n",
        "The theta values are close to sklearn's linear regression values if not the same."
      ]
    },
    {
      "cell_type": "code",
      "execution_count": null,
      "metadata": {
        "colab": {
          "base_uri": "https://localhost:8080/",
          "height": 281
        },
        "id": "lgHn-YparWyV",
        "outputId": "03c3995e-0492-4ec0-ee27-1a45f538d90b"
      },
      "outputs": [
        {
          "output_type": "display_data",
          "data": {
            "text/plain": [
              "<Figure size 432x288 with 1 Axes>"
            ],
            "image/png": "[encoded data removed]"
          },
          "metadata": {
            "needs_background": "light"
          }
        }
      ],
      "source": [
        "# Adding x0=1 to each instance.\n",
        "\n",
        "X_new_b = np.c_[np.ones(len(X_test)), X_test]  # add x0 = 1 to each instance\n",
        "y_predict = X_new_b.dot(theta_Normal)\n",
        "\n",
        "plt.scatter(y_test,y_predict);\n",
        "plt.title('Simple Linear Regression using Normal Equation');\n",
        "\n"
      ]
    },
    {
      "cell_type": "code",
      "source": [
        "results = pd.DataFrame({'Actual': y_test.squeeze(), 'Predicted': y_predict.squeeze()})\n",
        "print(results)"
      ],
      "metadata": {
        "colab": {
          "base_uri": "https://localhost:8080/"
        },
        "id": "kuvq7TgNQbBZ",
        "outputId": "ad952670-f3c1-4c5e-9d9c-f9eb458bba0c"
      },
      "execution_count": null,
      "outputs": [
        {
          "output_type": "stream",
          "name": "stdout",
          "text": [
            "         Actual   Predicted\n",
            "0    453.315675  457.441861\n",
            "1    402.033135  403.720053\n",
            "2    411.069611  410.253154\n",
            "3    600.406092  592.431034\n",
            "4    587.155870  591.014373\n",
            "..          ...         ...\n",
            "145  480.731938  479.300766\n",
            "146  489.387526  485.410296\n",
            "147  462.112248  458.590999\n",
            "148  408.704548  412.526576\n",
            "149  376.398455  376.479006\n",
            "\n",
            "[150 rows x 2 columns]\n"
          ]
        }
      ]
    },
    {
      "cell_type": "code",
      "execution_count": null,
      "metadata": {
        "colab": {
          "base_uri": "https://localhost:8080/"
        },
        "id": "RQO-ooHttCTY",
        "outputId": "7b8039e7-e6af-4947-830f-1e689c334ad4"
      },
      "outputs": [
        {
          "output_type": "stream",
          "name": "stdout",
          "text": [
            "Mean Absolute Error: 7.23\n",
            "Mean Square Error: 79.81\n",
            "Root Mean Squared Error: 8.93\n",
            "R^2: 0.989\n"
          ]
        }
      ],
      "source": [
        "mae = mean_absolute_error(y_test, y_predict)\n",
        "print(f'Mean Absolute Error: {mae:.2f}')\n",
        "\n",
        "mse = mean_squared_error(y_test, y_predict)\n",
        "print(f'Mean Square Error: {mse:.2f}')\n",
        "\n",
        "rmse = np.sqrt(mean_squared_error(y_test, y_predict))\n",
        "print(f'Root Mean Squared Error: {rmse:.2f}')\n",
        "\n",
        "R2 = r2_score(y_test, y_predict)\n",
        "print(f'R^2: {R2:.3f}')"
      ]
    },
    {
      "cell_type": "markdown",
      "source": [
        "Insights:\n",
        "* Using the Normarl Equation we obtained the same results as using the Linear Regression algorithm."
      ],
      "metadata": {
        "id": "FrZztzHUt73K"
      }
    },
    {
      "cell_type": "markdown",
      "metadata": {
        "id": "mYJSqcGJtR41"
      },
      "source": [
        "# What is the limitation of using the Normal equation for regression?\n",
        "\n",
        "The limitation is that training a Linear Regression model \n",
        "when there are hundreds of thousands of features is very slow using a normal equation"
      ]
    },
    {
      "cell_type": "markdown",
      "metadata": {
        "id": "9DBa9If7iyH7"
      },
      "source": [
        "# 6 Batch Gradient Descent\n",
        "<ol type=\"I\">\n",
        "<li>Implement Batch Gradient Descent based on the way we have learned in the class (See sample code form pdf). You can play with eta and n_iterations and should set to reasonable eta and number of iterations so that you can get the thetas close to Normal equation's theta</li>\n",
        "<li>Display the theta values. Are they very close to the sklearn's linear regression?</li>\n",
        "<li>Also plot step number (in x-axis) against the cost(y axis). See an example from this colab link : https://colab.research.google.com/drive/19_UoIFfIBx-nofDFs7Pw7ZB8gVw5yQLe?usp=sharing (Links to an external site.)</li>\n",
        "<li>Perform Prediction for the test set</li>\n",
        "<li>Generate a scatter plot that shows the Y test on the x-axis and y predicted in the y-axis</li>\n",
        "<li>Use sklearn's metrics to print the value of MAE, MSE, RMSE, and R^2  (see documentation of sklearn's metrics)</li>\n",
        "<li>Short Question: How do derivatives help in the process of gradient descent?</li>\n",
        "<li>Short Question: What are the benefits and the limitations of using batch gradient descent? </li>\n",
        "</ol>"
      ]
    },
    {
      "cell_type": "code",
      "execution_count": null,
      "metadata": {
        "id": "sYYyqROixqJY"
      },
      "outputs": [],
      "source": [
        "cost_list = []\n",
        "epoch_list = []\n",
        "predicted_list = []\n",
        "\n",
        "eta =  0.01 # learning rate\n",
        "n_iterations = 1000\n",
        "m = 100\n",
        "\n",
        "\n",
        "theta_batch = np.random.randn(5,1)  # random initialization\n",
        "\n",
        "for iteration in range(n_iterations):\n",
        "    gradients = 2/m * X_b.T.dot(X_b.dot(theta_batch) - y_train)\n",
        "    theta_batch = theta_batch - eta * gradients\n",
        "    \n",
        "    y_predicted = np.dot(theta_batch.T, X_b.T)\n",
        "    cost = np.mean(np.square(y_test-y_predicted)) # MSE (Mean Squared Error)\n",
        "        \n",
        "    if iteration%10==0:\n",
        "      cost_list.append(cost)\n",
        "      epoch_list.append(iteration)"
      ]
    },
    {
      "cell_type": "code",
      "execution_count": null,
      "metadata": {
        "colab": {
          "base_uri": "https://localhost:8080/"
        },
        "id": "uaa8L0IWjMn5",
        "outputId": "91a0e351-c3be-4a5a-cb82-0669c27c5358"
      },
      "outputs": [
        {
          "output_type": "execute_result",
          "data": {
            "text/plain": [
              "array([[5.00531668e+02],\n",
              "       [2.57625266e+01],\n",
              "       [3.83285520e+01],\n",
              "       [1.92209922e-01],\n",
              "       [6.11735571e+01]])"
            ]
          },
          "metadata": {},
          "execution_count": 278
        }
      ],
      "source": [
        "theta_batch"
      ]
    },
    {
      "cell_type": "markdown",
      "metadata": {
        "id": "4au3tdZmtgn_"
      },
      "source": [
        "# Display the theta values. Are they very close to the sklearn's linear regression?\n",
        "\n",
        "Yes they are very close to the sklearn's linear regression"
      ]
    },
    {
      "cell_type": "code",
      "execution_count": null,
      "metadata": {
        "colab": {
          "base_uri": "https://localhost:8080/",
          "height": 279
        },
        "id": "f-j5Ap1XviVR",
        "outputId": "1e733dd2-593b-4bcc-ca00-e640ce0f9cd4"
      },
      "outputs": [
        {
          "output_type": "display_data",
          "data": {
            "text/plain": [
              "<Figure size 432x288 with 1 Axes>"
            ],
            "image/png": "[encoded data removed]"
          },
          "metadata": {
            "needs_background": "light"
          }
        }
      ],
      "source": [
        "plt.xlabel(\"epoch\")\n",
        "plt.ylabel(\"cost\")\n",
        "plt.plot(epoch_list,cost_list);"
      ]
    },
    {
      "cell_type": "code",
      "execution_count": null,
      "metadata": {
        "id": "VgA5KaSCA9rO"
      },
      "outputs": [],
      "source": [
        "X_new_b_GD = np.c_[np.ones(len(X_test)), X_test]  # add x0 = 1 to each instance\n",
        "y_predict_GD = X_new_b_GD.dot(theta_batch)"
      ]
    },
    {
      "cell_type": "code",
      "execution_count": null,
      "metadata": {
        "colab": {
          "base_uri": "https://localhost:8080/",
          "height": 281
        },
        "id": "gNqQcJl2_zj9",
        "outputId": "1f817cbc-9aae-4a8a-f9f1-87d825be1a20"
      },
      "outputs": [
        {
          "output_type": "display_data",
          "data": {
            "text/plain": [
              "<Figure size 432x288 with 1 Axes>"
            ],
            "image/png": "[encoded data removed]"
          },
          "metadata": {
            "needs_background": "light"
          }
        }
      ],
      "source": [
        "plt.scatter(y_test,y_predict_GD);\n",
        "plt.title('Simple Linear Regression using Batch Gradient Descent');"
      ]
    },
    {
      "cell_type": "code",
      "source": [
        "results = pd.DataFrame({'Actual': y_test.squeeze(), 'Predicted': y_predict_GD.squeeze()})\n",
        "print(results)"
      ],
      "metadata": {
        "colab": {
          "base_uri": "https://localhost:8080/"
        },
        "id": "wkrroZdXQsgu",
        "outputId": "9aa04980-5281-4707-c4ec-509d84afca69"
      },
      "execution_count": null,
      "outputs": [
        {
          "output_type": "stream",
          "name": "stdout",
          "text": [
            "         Actual   Predicted\n",
            "0    453.315675  457.441861\n",
            "1    402.033135  403.720053\n",
            "2    411.069611  410.253154\n",
            "3    600.406092  592.431034\n",
            "4    587.155870  591.014373\n",
            "..          ...         ...\n",
            "145  480.731938  479.300766\n",
            "146  489.387526  485.410296\n",
            "147  462.112248  458.590999\n",
            "148  408.704548  412.526576\n",
            "149  376.398455  376.479006\n",
            "\n",
            "[150 rows x 2 columns]\n"
          ]
        }
      ]
    },
    {
      "cell_type": "code",
      "source": [
        "mae = mean_absolute_error(y_test, y_predict_GD)\n",
        "print(f'Mean Absolute Error: {mae:.2f}')\n",
        "\n",
        "mse = mean_squared_error(y_test, y_predict_GD)\n",
        "print(f'Mean Square Error: {mse:.2f}')\n",
        "\n",
        "rmse = np.sqrt(mean_squared_error(y_test, y_predict_GD))\n",
        "print(f'Root Mean Squared Error: {rmse:.2f}')\n",
        "\n",
        "R2 = r2_score(y_test, y_predict_GD)\n",
        "print(f'R^2: {R2:.3f}')"
      ],
      "metadata": {
        "colab": {
          "base_uri": "https://localhost:8080/"
        },
        "id": "OgRAQEC0wBdZ",
        "outputId": "0011b663-c40b-47ee-f77f-5ebdbf9bb6d9"
      },
      "execution_count": null,
      "outputs": [
        {
          "output_type": "stream",
          "name": "stdout",
          "text": [
            "Mean Absolute Error: 7.23\n",
            "Mean Square Error: 79.81\n",
            "Root Mean Squared Error: 8.93\n",
            "R^2: 0.989\n"
          ]
        }
      ]
    },
    {
      "cell_type": "markdown",
      "source": [
        "Insights:\n",
        "* Using Batch Gradient Descent produced similar results as using the normal and linear regression algorithms."
      ],
      "metadata": {
        "id": "pv2q4X8gwL08"
      }
    },
    {
      "cell_type": "markdown",
      "metadata": {
        "id": "i42lmcRxuncr"
      },
      "source": [
        "#Short Question: How do derivatives help in the process of gradient descent?\n",
        "\n",
        "The Derivatives give us the slope of a function at a point, which in turns helps determine the step size to reach the target."
      ]
    },
    {
      "cell_type": "markdown",
      "metadata": {
        "id": "zGssG3t2unrZ"
      },
      "source": [
        "#Short Question: What are the benefits and the limitations of using batch gradient descent?\n",
        "\n",
        "The benefit of batch gradient descent is that it uses the whole training set at every step. Its major limitation is that it is terribly slow on very large data sets and there are much faster gradient descent algorithms available."
      ]
    },
    {
      "cell_type": "markdown",
      "metadata": {
        "id": "sBX3cwQ_jM_j"
      },
      "source": [
        "# 7 Stochastic Gradient Descent\n",
        "<ol type=\"I\">\n",
        "<li>Implement Stochastic Gradient Descent and train our data set. You must have to use learning_schedule (see example code in pdf as well as the colab link I have shared in #6 above. The parameters should be reasonable and the theta values should be very close to the normal equation</li>\n",
        "<li>Display the theta values. Are they very close to the sklearn's linear regression?</li>\n",
        "<li>Also plot step number (in x-axis) against cost(y-axis). See an example from this colab link : https://colab.research.google.com/drive/19_UoIFfIBx-nofDFs7Pw7ZB8gVw5yQLe?usp=sharing (Links to an external site.)</li>\n",
        "<li>Perform Prediction for the test set</li>\n",
        "<li>Generate a scatter plot that shows the Y test on the x-axis and y predicted in the y-axis</li>\n",
        "<li>Use sklearn's metrics to print the value of MAE, MSE, RMSE, and R^2  (see documentation of sklearn's metrics)</li>\n",
        "<li>Short Question: What are the benefits and the limitations of using batch gradient descent?</li>\n",
        "</ol>"
      ]
    },
    {
      "cell_type": "code",
      "execution_count": null,
      "metadata": {
        "id": "XukrLHvEjrsJ"
      },
      "outputs": [],
      "source": [
        "\n",
        "cost_list = []\n",
        "epoch_list = []\n",
        "\n",
        "n_epochs = 1000\n",
        "t0, t1 = 40, 75 # learning schedule hyperparameters\n",
        "\n",
        "def learning_schedule(t):\n",
        "  return t0 / (t + t1)\n",
        "\n",
        "theta = np.random.randn(5,1) # random initialization\n",
        "i=0\n",
        "for epoch in range(n_epochs):\n",
        "  if i==101:\n",
        "    i = 0\n",
        "  random_index = np.random.randint(m)\n",
        "  xi = X_b[random_index:random_index+1]\n",
        "  yi = y[random_index:random_index+1]\n",
        "  gradients = 2 * xi.T.dot(xi.dot(theta) - yi)\n",
        "  eta = learning_schedule(epoch * m + i)\n",
        "  theta = theta - eta * gradients\n",
        "\n",
        "  y_predicted = np.dot(theta.T, X_b.T)\n",
        "  cost = np.mean(np.square(y_test-y_predicted)) # MSE (Mean Squared Error)\n",
        "        \n",
        "  if epoch%10==0:\n",
        "    cost_list.append(cost)\n",
        "    epoch_list.append(epoch)\n",
        "\n",
        "theta_SGD = theta"
      ]
    },
    {
      "cell_type": "code",
      "execution_count": null,
      "metadata": {
        "colab": {
          "base_uri": "https://localhost:8080/"
        },
        "id": "oMtQvtcAFJZS",
        "outputId": "d63c9876-a6fa-4bd8-82a5-e94542ebc496"
      },
      "outputs": [
        {
          "output_type": "execute_result",
          "data": {
            "text/plain": [
              "array([[511.77378445],\n",
              "       [  1.7371722 ],\n",
              "       [ -9.96228158],\n",
              "       [  7.72079038],\n",
              "       [ -1.08705894]])"
            ]
          },
          "metadata": {},
          "execution_count": 285
        }
      ],
      "source": [
        "theta_SGD"
      ]
    },
    {
      "cell_type": "markdown",
      "metadata": {
        "id": "AODgcTIQtpmP"
      },
      "source": [
        "# Display the theta values. Are they very close to the sklearn's linear regression?\n",
        "\n",
        "I am able to get a similar intercept value of around 500 but I am unable to get the correct values for the theta values. So I know when making predictions I expect there to be a lot of error. When I rerun the cell I tend to get inconsistent values so that adds more reason to see error."
      ]
    },
    {
      "cell_type": "markdown",
      "source": [],
      "metadata": {
        "id": "VPTsrEId23Ya"
      }
    },
    {
      "cell_type": "code",
      "execution_count": null,
      "metadata": {
        "colab": {
          "base_uri": "https://localhost:8080/",
          "height": 307
        },
        "id": "QQVKCCq-FNMh",
        "outputId": "dec58f65-9ba0-4c1b-b8a6-f968936c51d9"
      },
      "outputs": [
        {
          "output_type": "execute_result",
          "data": {
            "text/plain": [
              "[<matplotlib.lines.Line2D at 0x7fa14909add0>]"
            ]
          },
          "metadata": {},
          "execution_count": 286
        },
        {
          "output_type": "display_data",
          "data": {
            "text/plain": [
              "<Figure size 432x288 with 1 Axes>"
            ],
            "image/png": "[encoded data removed]"
          },
          "metadata": {
            "needs_background": "light"
          }
        }
      ],
      "source": [
        "plt.xlabel(\"epoch\")\n",
        "plt.ylabel(\"cost\")\n",
        "plt.plot(epoch_list,cost_list)"
      ]
    },
    {
      "cell_type": "code",
      "execution_count": null,
      "metadata": {
        "id": "BBu8_UH_GB4X"
      },
      "outputs": [],
      "source": [
        "X_new_b_SGD = np.c_[np.ones(len(X_test)), X_test]  # add x0 = 1 to each instance\n",
        "y_predict_SGD = X_new_b_SGD.dot(theta_SGD)"
      ]
    },
    {
      "cell_type": "code",
      "execution_count": null,
      "metadata": {
        "colab": {
          "base_uri": "https://localhost:8080/",
          "height": 281
        },
        "id": "Pp7p6pOwJK6R",
        "outputId": "56a6c718-ebb3-4721-eea7-70152741c54b"
      },
      "outputs": [
        {
          "output_type": "display_data",
          "data": {
            "text/plain": [
              "<Figure size 432x288 with 1 Axes>"
            ],
            "image/png": "[encoded data removed]"
          },
          "metadata": {
            "needs_background": "light"
          }
        }
      ],
      "source": [
        "plt.scatter(y_test,y_predict_SGD);\n",
        "plt.title('Simple Linear Regression using SGD');"
      ]
    },
    {
      "cell_type": "code",
      "source": [
        "results = pd.DataFrame({'Actual': y_test.squeeze(), 'Predicted': y_predict_SGD.squeeze()})\n",
        "print(results)"
      ],
      "metadata": {
        "colab": {
          "base_uri": "https://localhost:8080/"
        },
        "id": "EVmo_oB1Qxw5",
        "outputId": "36bb6a7d-03ad-41ab-bbb4-63ebb1cf2b04"
      },
      "execution_count": null,
      "outputs": [
        {
          "output_type": "stream",
          "name": "stdout",
          "text": [
            "         Actual   Predicted\n",
            "0    453.315675  494.797378\n",
            "1    402.033135  542.449665\n",
            "2    411.069611  527.343258\n",
            "3    600.406092  507.458568\n",
            "4    587.155870  506.883224\n",
            "..          ...         ...\n",
            "145  480.731938  527.204450\n",
            "146  489.387526  497.698059\n",
            "147  462.112248  525.257246\n",
            "148  408.704548  522.259750\n",
            "149  376.398455  525.907531\n",
            "\n",
            "[150 rows x 2 columns]\n"
          ]
        }
      ]
    },
    {
      "cell_type": "code",
      "execution_count": null,
      "metadata": {
        "colab": {
          "base_uri": "https://localhost:8080/"
        },
        "id": "NL24CZJaGCbn",
        "outputId": "0f4d2b66-7f05-499b-8051-46cad2771e17"
      },
      "outputs": [
        {
          "output_type": "stream",
          "name": "stdout",
          "text": [
            "Mean Absolute Error: 72.98\n",
            "Mean Square Error: 8601.01\n",
            "Root Mean Squared Error: 92.74\n",
            "R^2: -0.185\n"
          ]
        }
      ],
      "source": [
        "mae = mean_absolute_error(y_test, y_predict_SGD)\n",
        "print(f'Mean Absolute Error: {mae:.2f}')\n",
        "\n",
        "mse = mean_squared_error(y_test, y_predict_SGD)\n",
        "print(f'Mean Square Error: {mse:.2f}')\n",
        "\n",
        "rmse = np.sqrt(mean_squared_error(y_test, y_predict_SGD))\n",
        "print(f'Root Mean Squared Error: {rmse:.2f}')\n",
        "\n",
        "R2 = r2_score(y_test, y_predict_SGD)\n",
        "print(f'R^2: {R2:.3f}')"
      ]
    },
    {
      "cell_type": "markdown",
      "source": [
        "Insights:\n",
        "* As previously stated I am obseriving high error in all three metrics.\n",
        "* Also only 3% of the test data is being explained by the SGD model which is a terrible result. Over 90% of the test data is not being explained by the model so I need to make changes to the algorithm to explain more test data. \n",
        "* Sometimes the R^2 value turns out negative which shows that test data isnt being explained."
      ],
      "metadata": {
        "id": "azpIJgbgYz5S"
      }
    },
    {
      "cell_type": "markdown",
      "metadata": {
        "id": "8-VDdedKr9A1"
      },
      "source": [
        "#Short Question: What are the benefits and the limitations of using batch gradient descent?\n",
        "\n",
        "The benefit of batch gradient descent is that it uses the whole training set at every step. Its major limitation is that it is terribly slow on very large data sets and there are much faster gradient descent algorithms available."
      ]
    },
    {
      "cell_type": "markdown",
      "metadata": {
        "id": "wJgzV99ZjsGF"
      },
      "source": [
        "# 8 SGDRegressor from sklearn\n",
        "<ol type= \"I\">\n",
        "<li>Use sklearn's SGDRegressor to train a model for our data set. Put a reasonable iteration and tolerance and learning steps so that we can get coefficients close to normal equation</li>\n",
        "<li>Display the theta values. Are they very close to sklearn's linear regression?</li>\n",
        "<li>Predict for the test data</li>\n",
        "<li>Generate a scatter plot that shows the Y test on the x-axis and y predicted in the y-axis</li>\n",
        "<li>Use sklearn's metrics to print the value of MAE, MSE, RMSE, and R^2  (see documentation of sklearn's metrics)</li>\n",
        "</ol>"
      ]
    },
    {
      "cell_type": "code",
      "execution_count": null,
      "metadata": {
        "colab": {
          "base_uri": "https://localhost:8080/"
        },
        "id": "A9wAxNAukEcB",
        "outputId": "fa16a27d-df9d-49fb-b4f0-60737dc51703"
      },
      "outputs": [
        {
          "output_type": "execute_result",
          "data": {
            "text/plain": [
              "SGDRegressor(eta0=0.1, penalty=None)"
            ]
          },
          "metadata": {},
          "execution_count": 291
        }
      ],
      "source": [
        "from sklearn.linear_model import SGDRegressor\n",
        "sgd_reg = SGDRegressor(max_iter=1000, tol=1e-3, penalty=None, eta0=0.1)\n",
        "sgd_reg.fit(X_train, y_train)"
      ]
    },
    {
      "cell_type": "code",
      "execution_count": null,
      "metadata": {
        "colab": {
          "base_uri": "https://localhost:8080/"
        },
        "id": "XULFyJNYJpN9",
        "outputId": "110a68f6-3b57-4b2c-95fe-339ec032a6b0"
      },
      "outputs": [
        {
          "output_type": "execute_result",
          "data": {
            "text/plain": [
              "(array([500.83010426]),\n",
              " array([25.60519923, 37.69028726,  1.11408282, 60.68115069]))"
            ]
          },
          "metadata": {},
          "execution_count": 292
        }
      ],
      "source": [
        "sgd_reg.intercept_, sgd_reg.coef_"
      ]
    },
    {
      "cell_type": "markdown",
      "source": [
        "Insights:\n",
        "* The intercept and theta values are similar except the theta relating to Time on Website which increased slightly."
      ],
      "metadata": {
        "id": "0EpKpKzlba13"
      }
    },
    {
      "cell_type": "code",
      "execution_count": null,
      "metadata": {
        "colab": {
          "base_uri": "https://localhost:8080/"
        },
        "id": "a8aF-FqZJ82i",
        "outputId": "40cb07d6-75e1-4298-a6bb-9de2e4a2f852"
      },
      "outputs": [
        {
          "output_type": "stream",
          "name": "stdout",
          "text": [
            "[500.83010426  25.60519923  37.69028726   1.11408282  60.68115069]\n"
          ]
        }
      ],
      "source": [
        "theta_new_SGD = np.append(sgd_reg.intercept_, sgd_reg.coef_)\n",
        "print(theta_new_SGD)"
      ]
    },
    {
      "cell_type": "code",
      "execution_count": null,
      "metadata": {
        "colab": {
          "base_uri": "https://localhost:8080/",
          "height": 281
        },
        "id": "HfY2vLsqKqxP",
        "outputId": "a9299b28-4e5c-4a8a-ff41-f5950fdfdfec"
      },
      "outputs": [
        {
          "output_type": "display_data",
          "data": {
            "text/plain": [
              "<Figure size 432x288 with 1 Axes>"
            ],
            "image/png": "[encoded data removed]"
          },
          "metadata": {
            "needs_background": "light"
          }
        }
      ],
      "source": [
        "X_new_b_SGD_ = np.c_[np.ones(len(X_test)), X_test]  # add x0 = 1 to each instance\n",
        "y_predicted_SGD_= X_new_b_SGD_.dot(theta_new_SGD) \n",
        "plt.scatter(y_test, y_predicted_SGD_);\n",
        "plt.title('Simple Linear Regression using SGDRegressor');"
      ]
    },
    {
      "cell_type": "code",
      "source": [
        "results = pd.DataFrame({'Actual': y_test.squeeze(), 'Predicted': y_predicted_SGD_.squeeze()})\n",
        "print(results)"
      ],
      "metadata": {
        "colab": {
          "base_uri": "https://localhost:8080/"
        },
        "id": "Cc-3ZvJKRKoS",
        "outputId": "151379d8-f447-4267-bb91-aba3434cca2b"
      },
      "execution_count": null,
      "outputs": [
        {
          "output_type": "stream",
          "name": "stdout",
          "text": [
            "         Actual   Predicted\n",
            "0    453.315675  458.242156\n",
            "1    402.033135  407.129959\n",
            "2    411.069611  412.473214\n",
            "3    600.406092  592.192784\n",
            "4    587.155870  590.661142\n",
            "..          ...         ...\n",
            "145  480.731938  480.506255\n",
            "146  489.387526  484.533665\n",
            "147  462.112248  459.435064\n",
            "148  408.704548  414.722152\n",
            "149  376.398455  378.427570\n",
            "\n",
            "[150 rows x 2 columns]\n"
          ]
        }
      ]
    },
    {
      "cell_type": "code",
      "source": [
        "mae = mean_absolute_error(y_test, y_predicted_SGD_)\n",
        "print(f'Mean Absolute Error: {mae:.2f}')\n",
        "\n",
        "mse = mean_squared_error(y_test, y_predicted_SGD_)\n",
        "print(f'Mean Square Error: {mse:.2f}')\n",
        "\n",
        "rmse = np.sqrt(mean_squared_error(y_test, y_predicted_SGD_))\n",
        "print(f'Root Mean Squared Error: {rmse:.2f}')\n",
        "\n",
        "R2 = r2_score(y_test, y_predicted_SGD_)\n",
        "print(f'R^2: {R2:.3f}')"
      ],
      "metadata": {
        "colab": {
          "base_uri": "https://localhost:8080/"
        },
        "id": "Vwd74Wntd8gD",
        "outputId": "776d754f-9424-4502-fd96-1b19e00ca036"
      },
      "execution_count": null,
      "outputs": [
        {
          "output_type": "stream",
          "name": "stdout",
          "text": [
            "Mean Absolute Error: 7.37\n",
            "Mean Square Error: 81.87\n",
            "Root Mean Squared Error: 9.05\n",
            "R^2: 0.989\n"
          ]
        }
      ]
    },
    {
      "cell_type": "markdown",
      "source": [
        "Insight:\n",
        "* No significant changes that drastically affects the R^2 score after time on website's theta value slightly increased.\n",
        "* Still seeing similar theta values."
      ],
      "metadata": {
        "id": "mvnFO__qeNVf"
      }
    },
    {
      "cell_type": "markdown",
      "source": [],
      "metadata": {
        "id": "EwY2laCMeNRo"
      }
    },
    {
      "cell_type": "markdown",
      "metadata": {
        "id": "EC5euDgskE-7"
      },
      "source": [
        "# 9 Mini-batch Gradient Descent\n",
        "Briefly explain how mini-batch can overcome the limitations of Batch gradient descent and SGD.\n"
      ]
    },
    {
      "cell_type": "markdown",
      "metadata": {
        "id": "p93SQe1JrLon"
      },
      "source": [
        "# Briefly explain how mini-batch can overcome the limitations of Batch gradient descent and SGD.\n",
        "\n",
        "At each step, instead of computing the gradients based on the full training set (as in Batch GD) or based on just one instance (as in Stochastic GD), Minibatch GD computes the gradients on small random sets of instances called minibatches, which gives a performance boost over SGD. The algorithm’s progress in parameter space is less erratic than with SGD, especially with fairly large minibatches. As a result, Mini-batch GD will end up walking around a bit closer to the minimum than SGD."
      ]
    },
    {
      "cell_type": "markdown",
      "metadata": {
        "id": "hCB2OexJkKnF"
      },
      "source": [
        "# 10 Polynomial of degree 2\n",
        "<ol type= \"I\">\n",
        "<li>Use sklearn's Polynomial features to degree = 2 on our training and test set</li>\n",
        "<li>Use linearRegression on the new polynomial features</li>\n",
        "<li>Predict for test set</li>\n",
        "<li>Generate a scatter plot that shows the Y test on the x-axis and y predicted in the y-axis</li>\n",
        "<li>Use sklearn's metrics to print the value of MAE, MSE, RMSE, and R^2  (see documentation of sklearn's metrics)</li>\n",
        "</ol>"
      ]
    },
    {
      "cell_type": "code",
      "execution_count": null,
      "metadata": {
        "colab": {
          "base_uri": "https://localhost:8080/"
        },
        "id": "8RENK8-7kkQX",
        "outputId": "49a06ce4-9332-4372-f41c-9890781ff7e2"
      },
      "outputs": [
        {
          "output_type": "execute_result",
          "data": {
            "text/plain": [
              "(array([500.49414369]),\n",
              " array([[ 2.56324041e+01,  3.83930621e+01,  1.40993709e-01,\n",
              "          6.12010238e+01, -8.38261559e-01, -1.61454843e-01,\n",
              "         -6.96974957e-02,  1.53178741e-01,  4.04112605e-01,\n",
              "         -2.24521389e-01,  4.19382892e-02,  5.97272276e-01,\n",
              "         -3.66429892e-01, -4.27833581e-02]]))"
            ]
          },
          "metadata": {},
          "execution_count": 297
        }
      ],
      "source": [
        "from sklearn.preprocessing import PolynomialFeatures\n",
        "poly_features = PolynomialFeatures(degree=2, include_bias=False)\n",
        "X_poly_train_2 = poly_features.fit_transform(X_train)\n",
        "X_poly_test_2 = poly_features.fit_transform(X_test)\n",
        "lin_reg = LinearRegression()\n",
        "lin_reg.fit(X_poly_train_2, y_train)\n",
        "lin_reg.intercept_, lin_reg.coef_\n"
      ]
    },
    {
      "cell_type": "code",
      "execution_count": null,
      "metadata": {
        "id": "yOybF7XPTX7m"
      },
      "outputs": [],
      "source": [
        "y_pred_poly2 = lin_reg.predict(X_poly_test_2);"
      ]
    },
    {
      "cell_type": "code",
      "execution_count": null,
      "metadata": {
        "colab": {
          "base_uri": "https://localhost:8080/",
          "height": 281
        },
        "id": "dfFyQtRdUGtL",
        "outputId": "34a3d18e-a9e0-4f45-fe7c-f2857b8ce9c2"
      },
      "outputs": [
        {
          "output_type": "display_data",
          "data": {
            "text/plain": [
              "<Figure size 432x288 with 1 Axes>"
            ],
            "image/png": "[encoded data removed]"
          },
          "metadata": {
            "needs_background": "light"
          }
        }
      ],
      "source": [
        "plt.scatter(y_test,y_pred_poly2);\n",
        "plt.title('Simple Linear Regression (Poly = 2)');"
      ]
    },
    {
      "cell_type": "code",
      "source": [
        "results = pd.DataFrame({'Actual': y_test.squeeze(), 'Predicted': y_pred_poly2.squeeze()})\n",
        "print(results)"
      ],
      "metadata": {
        "colab": {
          "base_uri": "https://localhost:8080/"
        },
        "id": "104HNUJNRp9d",
        "outputId": "19a48606-f153-4302-fd1a-d23b714ddd99"
      },
      "execution_count": null,
      "outputs": [
        {
          "output_type": "stream",
          "name": "stdout",
          "text": [
            "         Actual   Predicted\n",
            "0    453.315675  461.142472\n",
            "1    402.033135  406.996787\n",
            "2    411.069611  409.151568\n",
            "3    600.406092  592.451373\n",
            "4    587.155870  590.373352\n",
            "..          ...         ...\n",
            "145  480.731938  479.375556\n",
            "146  489.387526  486.344897\n",
            "147  462.112248  459.567385\n",
            "148  408.704548  413.757127\n",
            "149  376.398455  376.505749\n",
            "\n",
            "[150 rows x 2 columns]\n"
          ]
        }
      ]
    },
    {
      "cell_type": "code",
      "source": [
        "mae = mean_absolute_error(y_test, y_pred_poly2)\n",
        "print(f'Mean Absolute Error: {mae:.2f}')\n",
        "\n",
        "mse = mean_squared_error(y_test, y_pred_poly2)\n",
        "print(f'Mean Square Error: {mse:.2f}')\n",
        "\n",
        "rmse = np.sqrt(mean_squared_error(y_test, y_pred_poly2))\n",
        "print(f'Root Mean Squared Error: {rmse:.2f}')\n",
        "\n",
        "R2 = r2_score(y_test, y_pred_poly2)\n",
        "print(f'R^2: {R2:.3f}')"
      ],
      "metadata": {
        "colab": {
          "base_uri": "https://localhost:8080/"
        },
        "id": "3sWZXLuciHyJ",
        "outputId": "d376d697-95e8-444c-d8b2-7ad31e83aa34"
      },
      "execution_count": null,
      "outputs": [
        {
          "output_type": "stream",
          "name": "stdout",
          "text": [
            "Mean Absolute Error: 7.43\n",
            "Mean Square Error: 85.35\n",
            "Root Mean Squared Error: 9.24\n",
            "R^2: 0.988\n"
          ]
        }
      ]
    },
    {
      "cell_type": "code",
      "source": [
        "lin_reg.score(X_poly_train_2,y_train)"
      ],
      "metadata": {
        "colab": {
          "base_uri": "https://localhost:8080/"
        },
        "id": "gU0vIYJaiQ5d",
        "outputId": "64706ee3-664f-4e81-fc56-225ceac953f4"
      },
      "execution_count": null,
      "outputs": [
        {
          "output_type": "execute_result",
          "data": {
            "text/plain": [
              "0.9820835851742825"
            ]
          },
          "metadata": {},
          "execution_count": 302
        }
      ]
    },
    {
      "cell_type": "markdown",
      "source": [
        "Insights:\n",
        "* All the error metrics increased slightly and the R^2 score descreased slightly but not a concerning amount. It still stays similar to previous results."
      ],
      "metadata": {
        "id": "yqghVzWIiYHB"
      }
    },
    {
      "cell_type": "markdown",
      "metadata": {
        "id": "JHPVu7oQkkk5"
      },
      "source": [
        "# 11 Polynomial of degree 3\n",
        "<ol type= \"I\">\n",
        "<li>Use sklearn's Polynomial features to degree = 3 on our training and test set</li>\n",
        "<li>Use linearRegression on the new polynomial features</li>\n",
        "<li>Predict for test set</li>\n",
        "<li>Generate a scatter plot that shows the Y test on the x-axis and y predicted in the y-axis</li>\n",
        "<li>Use sklearn's metrics to print the value of MAE, MSE, RMSE, and R^2  (see documentation of sklearn's metrics)</li>\n",
        "</ol>"
      ]
    },
    {
      "cell_type": "code",
      "execution_count": null,
      "metadata": {
        "colab": {
          "base_uri": "https://localhost:8080/"
        },
        "id": "UbDBATuelC19",
        "outputId": "e0821823-badf-4cc5-d50e-44ec51b65c27"
      },
      "outputs": [
        {
          "output_type": "execute_result",
          "data": {
            "text/plain": [
              "(array([500.52588338]),\n",
              " array([[25.66180088, 37.73817386,  1.71438477, 61.53147374, -0.9027249 ,\n",
              "         -0.18506912,  0.13999095,  0.62340699,  0.22250795, -0.35852515,\n",
              "         -0.23855601,  0.65188939, -0.62388113,  0.0795928 ,  0.08363636,\n",
              "         -0.35101308, -0.10954996,  0.40875869,  0.13211318, -0.64021488,\n",
              "          0.28780793, -0.28538261,  0.66323145, -0.36183884, -0.09354415,\n",
              "         -0.48873914, -0.28292754,  1.1650947 ,  0.55789041,  0.47209095,\n",
              "         -0.34630194, -1.07106588, -0.41258377,  0.15717302]]))"
            ]
          },
          "metadata": {},
          "execution_count": 303
        }
      ],
      "source": [
        "poly_features = PolynomialFeatures(degree=3, include_bias=False)\n",
        "X_poly_train_3 = poly_features.fit_transform(X_train)\n",
        "X_poly_test_3 = poly_features.fit_transform(X_test)\n",
        "lin_reg = LinearRegression()\n",
        "lin_reg.fit(X_poly_train_3, y_train)\n",
        "lin_reg.intercept_, lin_reg.coef_"
      ]
    },
    {
      "cell_type": "code",
      "execution_count": null,
      "metadata": {
        "id": "3VSiOn3-URQ7"
      },
      "outputs": [],
      "source": [
        "y_pred_poly3 = lin_reg.predict(X_poly_test_3);"
      ]
    },
    {
      "cell_type": "code",
      "execution_count": null,
      "metadata": {
        "colab": {
          "base_uri": "https://localhost:8080/",
          "height": 281
        },
        "id": "grxchXtiUUTj",
        "outputId": "dcced891-8787-44c3-9684-6dea036e5aff"
      },
      "outputs": [
        {
          "output_type": "display_data",
          "data": {
            "text/plain": [
              "<Figure size 432x288 with 1 Axes>"
            ],
            "image/png": "[encoded data removed]"
          },
          "metadata": {
            "needs_background": "light"
          }
        }
      ],
      "source": [
        "plt.scatter(y_test,y_pred_poly3);\n",
        "plt.title('Simple Linear Regression (Poly = 3)');"
      ]
    },
    {
      "cell_type": "code",
      "source": [
        "results = pd.DataFrame({'Actual': y_test.squeeze(), 'Predicted': y_pred_poly3.squeeze()})\n",
        "print(results)"
      ],
      "metadata": {
        "colab": {
          "base_uri": "https://localhost:8080/"
        },
        "id": "scgo2TF2RvG6",
        "outputId": "147bc515-1bb8-484c-f86e-68bc1671a392"
      },
      "execution_count": null,
      "outputs": [
        {
          "output_type": "stream",
          "name": "stdout",
          "text": [
            "         Actual   Predicted\n",
            "0    453.315675  469.210206\n",
            "1    402.033135  397.714061\n",
            "2    411.069611  408.403371\n",
            "3    600.406092  592.902976\n",
            "4    587.155870  591.695435\n",
            "..          ...         ...\n",
            "145  480.731938  479.548868\n",
            "146  489.387526  486.597376\n",
            "147  462.112248  460.248131\n",
            "148  408.704548  417.572561\n",
            "149  376.398455  376.928893\n",
            "\n",
            "[150 rows x 2 columns]\n"
          ]
        }
      ]
    },
    {
      "cell_type": "code",
      "source": [
        "mae = mean_absolute_error(y_test, y_pred_poly3)\n",
        "print(f'Mean Absolute Error: {mae:.2f}')\n",
        "\n",
        "mse = mean_squared_error(y_test, y_pred_poly3)\n",
        "print(f'Mean Square Error: {mse:.2f}')\n",
        "\n",
        "rmse = np.sqrt(mean_squared_error(y_test, y_pred_poly3))\n",
        "print(f'Root Mean Squared Error: {rmse:.2f}')\n",
        "\n",
        "R2 = r2_score(y_test, y_pred_poly3)\n",
        "print(f'R^2: {R2:.3f}')"
      ],
      "metadata": {
        "colab": {
          "base_uri": "https://localhost:8080/"
        },
        "id": "iM4VcB9dix90",
        "outputId": "817c5769-2e2f-4360-fff9-266c2aeaada2"
      },
      "execution_count": null,
      "outputs": [
        {
          "output_type": "stream",
          "name": "stdout",
          "text": [
            "Mean Absolute Error: 7.70\n",
            "Mean Square Error: 94.97\n",
            "Root Mean Squared Error: 9.75\n",
            "R^2: 0.987\n"
          ]
        }
      ]
    },
    {
      "cell_type": "code",
      "source": [
        "lin_reg.score(X_poly_train_3,y_train)"
      ],
      "metadata": {
        "colab": {
          "base_uri": "https://localhost:8080/"
        },
        "id": "t3wVWK6CiyTI",
        "outputId": "a6ed0e78-2e97-4b0a-c899-01c6aee0f655"
      },
      "execution_count": null,
      "outputs": [
        {
          "output_type": "execute_result",
          "data": {
            "text/plain": [
              "0.9827524357032815"
            ]
          },
          "metadata": {},
          "execution_count": 308
        }
      ]
    },
    {
      "cell_type": "markdown",
      "source": [
        "Insights:\n",
        "* Similar results as previous models.\n",
        "* MSE is very close to 100 which can become a problem with the data"
      ],
      "metadata": {
        "id": "-CtPGybujNHw"
      }
    },
    {
      "cell_type": "markdown",
      "metadata": {
        "id": "EibLcbTklDqQ"
      },
      "source": [
        "# 12 Learning Curve\n",
        "<ol type= \"I\">\n",
        "<li>Generate learning curve with linearRegression</li>\n",
        "<li>Generate learning curve with polynomial regression with degree  = 5</li>\n",
        "<li>Interpret the result</li>\n",
        "</ol>"
      ]
    },
    {
      "cell_type": "code",
      "execution_count": null,
      "metadata": {
        "id": "v0MK0fF8lQfZ"
      },
      "outputs": [],
      "source": [
        "\n",
        "def plot_learning_curves(model, X, y):\n",
        "  X_train, X_val, y_train, y_val = train_test_split(X, y, test_size=0.3)\n",
        "  train_errors, val_errors = [], []\n",
        "  for m in range(1, len(X_train)):\n",
        "    model.fit(X_train[:m], y_train[:m])\n",
        "    y_train_predict = model.predict(X_train[:m])\n",
        "    y_val_predict = model.predict(X_val)\n",
        "    train_errors.append(mean_squared_error(y_train[:m], y_train_predict))\n",
        "    val_errors.append(mean_squared_error(y_val, y_val_predict))\n",
        "\n",
        "  plt.plot(np.sqrt(train_errors), \"r-+\", linewidth=2, label=\"train\")\n",
        "  plt.plot(np.sqrt(val_errors), \"b-\", linewidth=3, label=\"val\")\n",
        "  plt.legend(loc=\"upper right\", fontsize=14)   # not shown in the book\n",
        "  plt.xlabel(\"Training set size\", fontsize=14) # not shown\n",
        "  plt.ylabel(\"RMSE\", fontsize=14)              # not shown"
      ]
    },
    {
      "cell_type": "code",
      "execution_count": null,
      "metadata": {
        "colab": {
          "base_uri": "https://localhost:8080/",
          "height": 610
        },
        "id": "8ce2pobCV6Ba",
        "outputId": "0727c13d-c7ec-4b60-d74a-42e707723d16"
      },
      "outputs": [
        {
          "output_type": "display_data",
          "data": {
            "text/plain": [
              "<Figure size 864x720 with 1 Axes>"
            ],
            "image/png": "[encoded data removed]"
          },
          "metadata": {
            "needs_background": "light"
          }
        }
      ],
      "source": [
        "plt.figure(figsize = (12,10))\n",
        "X = np.array(df[['Avg. Session Length','Time on App', 'Time on Website', 'Length of Membership']])\n",
        "y = np.array(df['Yearly Amount Spent']);\n",
        "lin_reg = LinearRegression()\n",
        "plot_learning_curves(lin_reg, X, y)\n",
        "plt.show()     "
      ]
    },
    {
      "cell_type": "code",
      "execution_count": null,
      "metadata": {
        "colab": {
          "base_uri": "https://localhost:8080/",
          "height": 610
        },
        "id": "NoKVjGTSXBuF",
        "outputId": "70d18512-b19c-4055-bfff-869e61a3da30"
      },
      "outputs": [
        {
          "output_type": "display_data",
          "data": {
            "text/plain": [
              "<Figure size 864x720 with 1 Axes>"
            ],
            "image/png": "[encoded data removed]"
          },
          "metadata": {
            "needs_background": "light"
          }
        }
      ],
      "source": [
        "from sklearn.pipeline import Pipeline\n",
        "plt.figure(figsize = (12,10))\n",
        "polynomial_regression = Pipeline([(\"poly_features\", PolynomialFeatures(degree=5, include_bias=False)), (\"lin_reg\", LinearRegression()),])\n",
        "\n",
        "plot_learning_curves(polynomial_regression, X, y)\n",
        "plt.show() "
      ]
    },
    {
      "cell_type": "markdown",
      "metadata": {
        "id": "lY4f_u8JlQtv"
      },
      "source": [
        "# 13 Regularization\n",
        "Explain the purpose of regularization\n",
        "For the following Regularization method, use the polynomial degree 3 data set"
      ]
    },
    {
      "cell_type": "markdown",
      "metadata": {
        "id": "LzHALQJMqUoG"
      },
      "source": [
        "#Explain the purpose of regularization For the following Regularization method, use the polynomial degree 3 data set\n",
        "\n",
        " Regularization is used to overcome Overfitting for a regression model. In  regularization we constrain a model to make it simpler and reduce the risk of overfitting. The fewer degrees of freedom it has, the harder it will be for it to overfit the data.  a simple way to regularize a polynomial model is to reduce the number of polynomial degrees. In regularization, what we do is normally we keep the same number of features, but reduce the \n",
        "magnitude of the coefficients (weights of the model)."
      ]
    },
    {
      "cell_type": "markdown",
      "metadata": {
        "id": "EaGUwyT_lWGc"
      },
      "source": [
        "# 14 Ridge Regression\n",
        "<ol type= \"I\">\n",
        "<li>Use sklearn's Ridge to train the data set (use the polynomial degree 3 data set)</li>\n",
        "<li>Predict for test set</li>\n",
        "<li>Generate a scatter plot that shows the Y test on the x-axis and y predicted in the y-axis</li>\n",
        "<li>Use sklearn's metrics to print the value of MAE, MSE, RMSE, and R^2  (see documentation of sklearn's metrics)</li>\n",
        "</ol>"
      ]
    },
    {
      "cell_type": "code",
      "execution_count": null,
      "metadata": {
        "id": "XB-Uwsxdlmq6"
      },
      "outputs": [],
      "source": [
        "from sklearn.linear_model import Ridge\n",
        "ridge_reg = Ridge(alpha=3, solver=\"cholesky\") #Cholesky uses a variant of the close form\n",
        "ridge_reg.fit(X_poly_train_3, y_train)\n",
        "y_predict_ridge = ridge_reg.predict(X_poly_test_3)\n"
      ]
    },
    {
      "cell_type": "code",
      "execution_count": null,
      "metadata": {
        "colab": {
          "base_uri": "https://localhost:8080/",
          "height": 281
        },
        "id": "8Krs_xHEieCa",
        "outputId": "fa7aad64-2057-4257-897d-ddfe19cdee7b"
      },
      "outputs": [
        {
          "output_type": "display_data",
          "data": {
            "text/plain": [
              "<Figure size 432x288 with 1 Axes>"
            ],
            "image/png": "[encoded data removed]"
          },
          "metadata": {
            "needs_background": "light"
          }
        }
      ],
      "source": [
        "plt.scatter(y_test,y_predict_ridge);\n",
        "plt.title('Simple Linear Regression using Ridge Regression');"
      ]
    },
    {
      "cell_type": "code",
      "source": [
        "results = pd.DataFrame({'Actual': y_test.squeeze(), 'Predicted': y_predict_ridge.squeeze()})\n",
        "print(results)"
      ],
      "metadata": {
        "colab": {
          "base_uri": "https://localhost:8080/"
        },
        "id": "HCNhzdtTRy5g",
        "outputId": "7e266817-87ed-49f6-c9a4-cf1b33467cdd"
      },
      "execution_count": null,
      "outputs": [
        {
          "output_type": "stream",
          "name": "stdout",
          "text": [
            "         Actual   Predicted\n",
            "0    453.315675  471.105462\n",
            "1    402.033135  396.089835\n",
            "2    411.069611  408.890977\n",
            "3    600.406092  589.632138\n",
            "4    587.155870  589.724071\n",
            "..          ...         ...\n",
            "145  480.731938  479.830919\n",
            "146  489.387526  486.590833\n",
            "147  462.112248  461.613327\n",
            "148  408.704548  419.861948\n",
            "149  376.398455  379.502616\n",
            "\n",
            "[150 rows x 2 columns]\n"
          ]
        }
      ]
    },
    {
      "cell_type": "code",
      "source": [
        "mae = mean_absolute_error(y_test, y_predict_ridge)\n",
        "print(f'Mean Absolute Error: {mae:.2f}')\n",
        "\n",
        "mse = mean_squared_error(y_test, y_predict_ridge)\n",
        "print(f'Mean Square Error: {mse:.2f}')\n",
        "\n",
        "rmse = np.sqrt(mean_squared_error(y_test, y_predict_ridge))\n",
        "print(f'Root Mean Squared Error: {rmse:.2f}')\n",
        "\n",
        "R2 = r2_score(y_test, y_predict_ridge)\n",
        "print(f'R^2: {R2:.3f}')"
      ],
      "metadata": {
        "colab": {
          "base_uri": "https://localhost:8080/"
        },
        "id": "hrkYAC7cok4J",
        "outputId": "e7ff7331-9bd5-4fef-8b4d-e13d9099d6b4"
      },
      "execution_count": null,
      "outputs": [
        {
          "output_type": "stream",
          "name": "stdout",
          "text": [
            "Mean Absolute Error: 8.26\n",
            "Mean Square Error: 107.23\n",
            "Root Mean Squared Error: 10.36\n",
            "R^2: 0.985\n"
          ]
        }
      ]
    },
    {
      "cell_type": "code",
      "source": [
        "ridge_reg.score(X_poly_train_3, y_train)"
      ],
      "metadata": {
        "colab": {
          "base_uri": "https://localhost:8080/"
        },
        "id": "NT_e6bLwozww",
        "outputId": "69f5a406-c6ee-4593-9c4d-8b28486a20a1"
      },
      "execution_count": null,
      "outputs": [
        {
          "output_type": "execute_result",
          "data": {
            "text/plain": [
              "0.982401026121326"
            ]
          },
          "metadata": {},
          "execution_count": 316
        }
      ]
    },
    {
      "cell_type": "markdown",
      "source": [
        "Insights:\n",
        "* Error is increasing again and MSE has now exceeding 100 which is very concerning."
      ],
      "metadata": {
        "id": "mt5FjK_TpPGm"
      }
    },
    {
      "cell_type": "markdown",
      "metadata": {
        "id": "E8467numlm-4"
      },
      "source": [
        "# 15 SGDRegressor  for Ridge\n",
        "<ol type= \"I\">\n",
        "<li>Use sklearn's SGDRegressor for Ridge Regression</li>\n",
        "<li>Predict for test set</li>\n",
        "<li>Generate a scatter plot that shows the Y test on the x-axis and y predicted in the y-axis</li>\n",
        "<li>Use sklearn's metrics to print the value of MAE, MSE, RMSE, and R^2  (see documentation of sklearn's metrics)</li>\n",
        "</ol>"
      ]
    },
    {
      "cell_type": "code",
      "execution_count": null,
      "metadata": {
        "id": "ooR6B7S4mMKZ"
      },
      "outputs": [],
      "source": [
        "sgd_reg = SGDRegressor(penalty=\"l2\") #L2\n",
        "sgd_reg.fit(X_train, y_train)\n",
        "y_predict_sgdridge = sgd_reg.predict(X_test);\n",
        "y_predict_sgdridge = y_predict_sgdridge.reshape(150,1)\n"
      ]
    },
    {
      "cell_type": "code",
      "execution_count": null,
      "metadata": {
        "colab": {
          "base_uri": "https://localhost:8080/",
          "height": 281
        },
        "id": "Kvt1TPkd5-Es",
        "outputId": "8d4adee9-c61e-42c0-a1c0-34301e5d9049"
      },
      "outputs": [
        {
          "output_type": "display_data",
          "data": {
            "text/plain": [
              "<Figure size 432x288 with 1 Axes>"
            ],
            "image/png": "[encoded data removed]"
          },
          "metadata": {
            "needs_background": "light"
          }
        }
      ],
      "source": [
        "plt.scatter(y_test,y_predict_sgdridge);\n",
        "plt.title('Simple Linear Regression using Ridge SGDRegression');"
      ]
    },
    {
      "cell_type": "code",
      "source": [
        "results = pd.DataFrame({'Actual': y_test.squeeze(), 'Predicted': y_predict_sgdridge.squeeze()})\n",
        "print(results)"
      ],
      "metadata": {
        "colab": {
          "base_uri": "https://localhost:8080/"
        },
        "id": "NFvSG-e9SOpS",
        "outputId": "d06fb5dc-5e00-431f-ca38-f9502f4f9ed9"
      },
      "execution_count": null,
      "outputs": [
        {
          "output_type": "stream",
          "name": "stdout",
          "text": [
            "         Actual   Predicted\n",
            "0    453.315675  457.350365\n",
            "1    402.033135  403.747035\n",
            "2    411.069611  410.252594\n",
            "3    600.406092  592.375894\n",
            "4    587.155870  590.954513\n",
            "..          ...         ...\n",
            "145  480.731938  479.310317\n",
            "146  489.387526  485.372908\n",
            "147  462.112248  458.616998\n",
            "148  408.704548  412.512973\n",
            "149  376.398455  376.497801\n",
            "\n",
            "[150 rows x 2 columns]\n"
          ]
        }
      ]
    },
    {
      "cell_type": "code",
      "source": [
        "mae = mean_absolute_error(y_test, y_predict_sgdridge)\n",
        "print(f'Mean Absolute Error: {mae:.2f}')\n",
        "\n",
        "mse = mean_squared_error(y_test, y_predict_sgdridge)\n",
        "print(f'Mean Square Error: {mse:.2f}')\n",
        "\n",
        "rmse = np.sqrt(mean_squared_error(y_test, y_predict_sgdridge))\n",
        "print(f'Root Mean Squared Error: {rmse:.2f}')\n",
        "\n",
        "R2 = r2_score(y_test, y_predict_sgdridge)\n",
        "print(f'R^2: {R2:.3f}')"
      ],
      "metadata": {
        "colab": {
          "base_uri": "https://localhost:8080/"
        },
        "id": "gKHZrhFQp5Co",
        "outputId": "869ab8e8-e5eb-49e4-83fb-d0faa0f20bd1"
      },
      "execution_count": null,
      "outputs": [
        {
          "output_type": "stream",
          "name": "stdout",
          "text": [
            "Mean Absolute Error: 7.23\n",
            "Mean Square Error: 79.85\n",
            "Root Mean Squared Error: 8.94\n",
            "R^2: 0.989\n"
          ]
        }
      ]
    },
    {
      "cell_type": "code",
      "source": [
        "sgd_reg.score(X_train, y_train)"
      ],
      "metadata": {
        "colab": {
          "base_uri": "https://localhost:8080/"
        },
        "id": "kBeO-_-cp5in",
        "outputId": "fb68220e-db4d-4551-9861-1bf6f4599fe1"
      },
      "execution_count": null,
      "outputs": [
        {
          "output_type": "execute_result",
          "data": {
            "text/plain": [
              "0.9817559131482524"
            ]
          },
          "metadata": {},
          "execution_count": 321
        }
      ]
    },
    {
      "cell_type": "markdown",
      "source": [
        "Insights:\n",
        "* Now results are now closer to the linear regression and normal models.\n",
        "* MSE has decreased under 100 from the previous model."
      ],
      "metadata": {
        "id": "K3RcYA8CqH3Y"
      }
    },
    {
      "cell_type": "markdown",
      "metadata": {
        "id": "4SX45-BdmMWC"
      },
      "source": [
        "# 16 Lasso Regression\n",
        "<ol type= \"I\">\n",
        "<li>Use sklearn's Lasso</li>\n",
        "<li>Predict for test set</li>\n",
        "<li>Generate a scatter plot that shows the Y test on the x-axis and y predicted in the y-axis</li>\n",
        "<li>Use sklearn's metrics to print the value of MAE, MSE, RMSE, and R^2  (see documentation of sklearn's metrics)</li>\n",
        "<li>How Lasso perform the regularization and how does that affect the thetas?</li>\n",
        "</ol>"
      ]
    },
    {
      "cell_type": "code",
      "execution_count": null,
      "metadata": {
        "colab": {
          "base_uri": "https://localhost:8080/",
          "height": 281
        },
        "id": "SA9jtVYWmbWw",
        "outputId": "b46e74f4-c3b5-4364-9da3-2a5813e24482"
      },
      "outputs": [
        {
          "output_type": "display_data",
          "data": {
            "text/plain": [
              "<Figure size 432x288 with 1 Axes>"
            ],
            "image/png": "[encoded data removed]"
          },
          "metadata": {
            "needs_background": "light"
          }
        }
      ],
      "source": [
        "from sklearn.linear_model import Lasso\n",
        "lasso_reg = Lasso(alpha=0.1)\n",
        "lasso_reg.fit(X_train, y_train)\n",
        "y_pred_lasso = lasso_reg.predict(X_test)\n",
        "plt.scatter(y_test,y_pred_lasso);\n",
        "plt.title('Simple Lasso Regression');"
      ]
    },
    {
      "cell_type": "code",
      "source": [
        "results = pd.DataFrame({'Actual': y_test.squeeze(), 'Predicted': y_pred_lasso.squeeze()})\n",
        "print(results)"
      ],
      "metadata": {
        "colab": {
          "base_uri": "https://localhost:8080/"
        },
        "id": "ZUnsZxf9SQrO",
        "outputId": "d654fb1b-fd0d-4f84-a06e-9787ee97947a"
      },
      "execution_count": null,
      "outputs": [
        {
          "output_type": "stream",
          "name": "stdout",
          "text": [
            "         Actual   Predicted\n",
            "0    453.315675  457.339337\n",
            "1    402.033135  403.804708\n",
            "2    411.069611  410.436884\n",
            "3    600.406092  592.184072\n",
            "4    587.155870  590.862640\n",
            "..          ...         ...\n",
            "145  480.731938  479.413623\n",
            "146  489.387526  485.555702\n",
            "147  462.112248  458.757733\n",
            "148  408.704548  412.582304\n",
            "149  376.398455  376.756620\n",
            "\n",
            "[150 rows x 2 columns]\n"
          ]
        }
      ]
    },
    {
      "cell_type": "code",
      "source": [
        "mae = mean_absolute_error(y_test, y_pred_lasso)\n",
        "print(f'Mean Absolute Error: {mae:.2f}')\n",
        "\n",
        "mse = mean_squared_error(y_test, y_pred_lasso)\n",
        "print(f'Mean Square Error: {mse:.2f}')\n",
        "\n",
        "rmse = np.sqrt(mean_squared_error(y_test, y_pred_lasso))\n",
        "print(f'Root Mean Squared Error: {rmse:.2f}')\n",
        "\n",
        "R2 = r2_score(y_test, y_pred_lasso)\n",
        "print(f'R^2: {R2:.3f}')"
      ],
      "metadata": {
        "colab": {
          "base_uri": "https://localhost:8080/"
        },
        "id": "872R5Yv9qvQd",
        "outputId": "3e55e2ca-f169-4ebf-bde9-c905eda6639d"
      },
      "execution_count": null,
      "outputs": [
        {
          "output_type": "stream",
          "name": "stdout",
          "text": [
            "Mean Absolute Error: 7.24\n",
            "Mean Square Error: 80.16\n",
            "Root Mean Squared Error: 8.95\n",
            "R^2: 0.989\n"
          ]
        }
      ]
    },
    {
      "cell_type": "code",
      "source": [
        "lasso_reg.score(X_train, y_train)"
      ],
      "metadata": {
        "colab": {
          "base_uri": "https://localhost:8080/"
        },
        "id": "7vX5LUYdqvsY",
        "outputId": "3688357e-691c-42bc-bd01-6548a4a5bce9"
      },
      "execution_count": null,
      "outputs": [
        {
          "output_type": "execute_result",
          "data": {
            "text/plain": [
              "0.9817492954384373"
            ]
          },
          "metadata": {},
          "execution_count": 325
        }
      ]
    },
    {
      "cell_type": "markdown",
      "source": [
        "Insights:\n",
        "*  Results close to previous models."
      ],
      "metadata": {
        "id": "fjQw7meUq4sS"
      }
    },
    {
      "cell_type": "markdown",
      "metadata": {
        "id": "vUKdYkZJnQeY"
      },
      "source": [
        "#How Lasso perform the regularization and how does that affect the thetas?\n",
        "\n",
        "Lasso is another regularized version of Linear Regression, just like Ridge Regression, it adds a regularization term to the cost function, but it uses the \n",
        "ℓ1 norm of the weight vector instead of half the square of the ℓ2 norm. An important characteristic of Lasso Regression is that it tends to completely eliminate the weights of the least important features. This affects the thetas by lowering it slightly since the feature with the lowest correlation to the target is reduced to zero."
      ]
    },
    {
      "cell_type": "markdown",
      "metadata": {
        "id": "xlRgpfqambl9"
      },
      "source": [
        "# 17 Elastic Net\n",
        "<ol type= \"I\">\n",
        "<li>Use sklearn's ElasticNet </li>\n",
        "<li>Predict for test set</li>\n",
        "<li>Generate a scatter plot that shows the Y test in x axis and y predicted in y axis</li>\n",
        "<li>Use sklearn's metrics to print the value of MAE, MSE, RMSE and R^2  (see documentation of sklearn's metrics)</li>\n",
        "<li>How ElasticNet different compared to Lasso and RIDGE perform the regularization and how does that affect the thetas?</li>\n",
        "</ol>"
      ]
    },
    {
      "cell_type": "code",
      "execution_count": null,
      "metadata": {
        "colab": {
          "base_uri": "https://localhost:8080/",
          "height": 281
        },
        "id": "x1qphoLSmtXE",
        "outputId": "0012b56d-7530-45c4-c393-4619c2b5ac1a"
      },
      "outputs": [
        {
          "output_type": "display_data",
          "data": {
            "text/plain": [
              "<Figure size 432x288 with 1 Axes>"
            ],
            "image/png": "[encoded data removed]"
          },
          "metadata": {
            "needs_background": "light"
          }
        }
      ],
      "source": [
        "from sklearn.linear_model import ElasticNet\n",
        "elastic_net = ElasticNet(alpha=0.1, l1_ratio=0.5)\n",
        "elastic_net.fit(X_train, y_train)\n",
        "y_pred_elastic = elastic_net.predict(X_test)\n",
        "plt.scatter(y_test,y_pred_elastic);\n",
        "plt.title('Simple Elastic Regression');"
      ]
    },
    {
      "cell_type": "code",
      "source": [
        "results = pd.DataFrame({'Actual': y_test.squeeze(), 'Predicted': y_pred_elastic.squeeze()})\n",
        "print(results)"
      ],
      "metadata": {
        "colab": {
          "base_uri": "https://localhost:8080/"
        },
        "id": "4EEmpx7jSTR-",
        "outputId": "42adcf41-d91c-4835-9fb8-89c0470b4f75"
      },
      "execution_count": null,
      "outputs": [
        {
          "output_type": "stream",
          "name": "stdout",
          "text": [
            "         Actual   Predicted\n",
            "0    453.315675  459.072642\n",
            "1    402.033135  408.744141\n",
            "2    411.069611  414.856532\n",
            "3    600.406092  587.808241\n",
            "4    587.155870  586.562963\n",
            "..          ...         ...\n",
            "145  480.731938  480.602573\n",
            "146  489.387526  486.004560\n",
            "147  462.112248  460.857881\n",
            "148  408.704548  416.804885\n",
            "149  376.398455  382.704638\n",
            "\n",
            "[150 rows x 2 columns]\n"
          ]
        }
      ]
    },
    {
      "cell_type": "code",
      "source": [
        "mae = mean_absolute_error(y_test, y_pred_elastic)\n",
        "print(f'Mean Absolute Error: {mae:.2f}')\n",
        "\n",
        "mse = mean_squared_error(y_test, y_pred_elastic)\n",
        "print(f'Mean Square Error: {mse:.2f}')\n",
        "\n",
        "rmse = np.sqrt(mean_squared_error(y_test, y_pred_elastic))\n",
        "print(f'Root Mean Squared Error: {rmse:.2f}')\n",
        "\n",
        "R2 = r2_score(y_test, y_pred_elastic)\n",
        "print(f'R^2: {R2:.3f}')"
      ],
      "metadata": {
        "colab": {
          "base_uri": "https://localhost:8080/"
        },
        "id": "4tHSWqCcrQ28",
        "outputId": "b191930a-dc30-4701-f512-c96d34af908f"
      },
      "execution_count": null,
      "outputs": [
        {
          "output_type": "stream",
          "name": "stdout",
          "text": [
            "Mean Absolute Error: 8.25\n",
            "Mean Square Error: 102.75\n",
            "Root Mean Squared Error: 10.14\n",
            "R^2: 0.986\n"
          ]
        }
      ]
    },
    {
      "cell_type": "code",
      "source": [
        "elastic_net.score(X_train, y_train)"
      ],
      "metadata": {
        "colab": {
          "base_uri": "https://localhost:8080/"
        },
        "id": "aIFz5ahxrRFF",
        "outputId": "77016351-cd86-439b-f31c-725bbf666319"
      },
      "execution_count": null,
      "outputs": [
        {
          "output_type": "execute_result",
          "data": {
            "text/plain": [
              "0.9793337948594473"
            ]
          },
          "metadata": {},
          "execution_count": 329
        }
      ]
    },
    {
      "cell_type": "markdown",
      "source": [
        "Insights:\n",
        "*  Results close to previous models.\n",
        "* MSE jumped back to over 100 "
      ],
      "metadata": {
        "id": "zz1LHt_MrZPb"
      }
    },
    {
      "cell_type": "markdown",
      "metadata": {
        "id": "fm2QnaZalSiT"
      },
      "source": [
        "#How ElasticNet different compared to Lasso and RIDGE perform the regularization and how does that affect the thetas?\n",
        "\n",
        "ElasticNet uses regularization to reduce the magnitude of coefficients in our model. ElasticNet is a middle ground between Ridge Regression and Lasso Regression. The regularization term is a simple mix of both Ridge and Lasso’s regularization terms, and you can control the mix ratio r. When r = 0, Elastic Net is equivalent to Ridge Regression, and when r = 1, it is equivalent to \n",
        "Lasso Regression. Elastic net is different from lasso and ridge since only a few features are actually useful, you should prefer Lasso or Elastic Net since they tend to reduce the useless features’ weights down to zero and since Lasso may behave erratically when the number of features is greater than the number of training instances or when several features are strongly correlated, Elastic net is preferred over lasso. It affects theta by reducing useless weights down to zero thus slightly lowering the theta values.\n"
      ]
    },
    {
      "cell_type": "markdown",
      "metadata": {
        "id": "gsbSd1VKmtlc"
      },
      "source": [
        "# 18 Bonus Question:\n",
        "In most of the above cases, for example, LinearRegression of sklearn, (Q4 above), we have used scaled data set for training. However, in a real-life scenario, you would like to predict the yearly amount spent for a new instance. The real data will not be scaled. How would you use the model for this case to predict this instance? [35.49726772511229,12.655651149166752,39.57766801952616,4.082620632952961] = ? \\\\\n",
        "Write necessary code so that it will predict a reasonable value for the amount spent. This is very close to our first training record."
      ]
    },
    {
      "cell_type": "code",
      "execution_count": null,
      "metadata": {
        "id": "X-WLjUHJ-B_Y"
      },
      "outputs": [],
      "source": [
        "X = df[['Avg. Session Length','Time on App', 'Time on Website', 'Length of Membership']]\n",
        "y = df['Yearly Amount Spent']\n",
        "X_train, X_test, y_train, y_test = train_test_split(X, y, test_size=0.3, random_state = 101)"
      ]
    },
    {
      "cell_type": "code",
      "execution_count": null,
      "metadata": {
        "colab": {
          "base_uri": "https://localhost:8080/"
        },
        "outputId": "df756045-1ed7-4024-b41e-a8d715a49c5a",
        "id": "wAczJa8b-B_Z"
      },
      "outputs": [
        {
          "output_type": "stream",
          "name": "stdout",
          "text": [
            "intercept: -1142.3344442767707\n",
            "coefficients: [25.98154972 38.59015875  0.19040528 61.27909654]\n"
          ]
        }
      ],
      "source": [
        "lr_bonus=LinearRegression() \n",
        "lr_bonus.fit(X_train , y_train)\n",
        "print(\"intercept:\",lr_bonus.intercept_)\n",
        "print(\"coefficients:\",lr_bonus.coef_)"
      ]
    },
    {
      "cell_type": "code",
      "source": [
        "model_coefficients = lr_bonus.coef_\n",
        "coefficients_df = pd.DataFrame(data = model_coefficients.reshape(4,1), \n",
        "                              index = feature_columns, \n",
        "                              columns = ['Coefficient value'])\n",
        "print(coefficients_df)"
      ],
      "metadata": {
        "colab": {
          "base_uri": "https://localhost:8080/"
        },
        "id": "kOVwMTmBTQjv",
        "outputId": "dd638064-4b6d-412c-a823-2c98783ec3b3"
      },
      "execution_count": null,
      "outputs": [
        {
          "output_type": "stream",
          "name": "stdout",
          "text": [
            "                      Coefficient value\n",
            "Avg. Session Length           25.981550\n",
            "Time on App                   38.590159\n",
            "Time on Website                0.190405\n",
            "Length of Membership          61.279097\n"
          ]
        }
      ]
    },
    {
      "cell_type": "code",
      "source": [
        "y_pred_bounsQ = lr_bonus.predict(X_test)"
      ],
      "metadata": {
        "id": "SWG-kpku-hb0"
      },
      "execution_count": null,
      "outputs": []
    },
    {
      "cell_type": "code",
      "source": [
        "results = pd.DataFrame({'Actual': y_test, 'Predicted': y_pred_bounsQ})\n",
        "print(results)"
      ],
      "metadata": {
        "colab": {
          "base_uri": "https://localhost:8080/"
        },
        "id": "CJjB5tar-fBX",
        "outputId": "3e3af28c-6426-428a-efde-0c7e4dfb4f37"
      },
      "execution_count": null,
      "outputs": [
        {
          "output_type": "stream",
          "name": "stdout",
          "text": [
            "         Actual   Predicted\n",
            "18   453.315675  457.441861\n",
            "361  402.033135  403.720053\n",
            "104  411.069611  410.253154\n",
            "4    600.406092  592.431034\n",
            "156  587.155870  591.014373\n",
            "..          ...         ...\n",
            "147  480.731938  479.300766\n",
            "346  489.387526  485.410296\n",
            "423  462.112248  458.590999\n",
            "17   408.704548  412.526576\n",
            "259  376.398455  376.479006\n",
            "\n",
            "[150 rows x 2 columns]\n"
          ]
        }
      ]
    },
    {
      "cell_type": "code",
      "source": [
        "mae = mean_absolute_error(y_test, y_pred_bounsQ)\n",
        "print(f'Mean Absolute Error: {mae:.2f}')\n",
        "\n",
        "mse = mean_squared_error(y_test, y_pred_bounsQ)\n",
        "print(f'Mean Square Error: {mse:.2f}')\n",
        "\n",
        "rmse = np.sqrt(mean_squared_error(y_test, y_pred_bounsQ))\n",
        "print(f'Root Mean Squared Error: {rmse:.2f}')\n",
        "\n",
        "R2 = r2_score(y_test, y_pred_bounsQ)\n",
        "print(f'R^2: {R2:.3f}')"
      ],
      "metadata": {
        "colab": {
          "base_uri": "https://localhost:8080/"
        },
        "id": "1kqr1gJwsAnQ",
        "outputId": "36859f48-5878-46f5-d52b-c9dec7c0ca34"
      },
      "execution_count": null,
      "outputs": [
        {
          "output_type": "stream",
          "name": "stdout",
          "text": [
            "Mean Absolute Error: 7.23\n",
            "Mean Square Error: 79.81\n",
            "Root Mean Squared Error: 8.93\n",
            "R^2: 0.989\n"
          ]
        }
      ]
    },
    {
      "cell_type": "code",
      "source": [
        "lr_bonus.score(X_train, y_train)"
      ],
      "metadata": {
        "colab": {
          "base_uri": "https://localhost:8080/"
        },
        "id": "O9Mkd2sYS5jd",
        "outputId": "2d44b75b-aa83-450c-8b58-8ebc308ee986"
      },
      "execution_count": null,
      "outputs": [
        {
          "output_type": "execute_result",
          "data": {
            "text/plain": [
              "0.9817562058732432"
            ]
          },
          "metadata": {},
          "execution_count": 336
        }
      ]
    },
    {
      "cell_type": "code",
      "source": [
        "y_pred_bounsQ = lr_bonus.predict([[35.49726772511229,12.655651149166752,39.57766801952616,4.082620632952961]])"
      ],
      "metadata": {
        "id": "rw1s1uNyAO8_"
      },
      "execution_count": null,
      "outputs": []
    },
    {
      "cell_type": "code",
      "source": [
        "print(f'Predicted yearly amount spend by this customer: {y_pred_bounsQ[0]:.2f}')"
      ],
      "metadata": {
        "colab": {
          "base_uri": "https://localhost:8080/"
        },
        "id": "dOt68UfdAnB-",
        "outputId": "5001fd39-0503-4a21-c25a-6f959ec41c88"
      },
      "execution_count": null,
      "outputs": [
        {
          "output_type": "stream",
          "name": "stdout",
          "text": [
            "Predicted yearly amount spend by this customer: 526.04\n"
          ]
        }
      ]
    }
  ],
  "metadata": {
    "colab": {
      "collapsed_sections": [],
      "provenance": [],
      "include_colab_link": true
    },
    "kernelspec": {
      "display_name": "Python 3",
      "name": "python3"
    },
    "language_info": {
      "name": "python"
    }
  },
  "nbformat": 4,
  "nbformat_minor": 0
}